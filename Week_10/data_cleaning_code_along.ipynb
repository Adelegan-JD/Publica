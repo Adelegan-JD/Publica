{
 "cells": [
  {
   "cell_type": "markdown",
   "id": "920ab810",
   "metadata": {},
   "source": [
    "#### **Data Cleaning**"
   ]
  },
  {
   "cell_type": "markdown",
   "id": "331e428f",
   "metadata": {},
   "source": [
    "The process of **detecting**, **correcting**, or **removing corrupt** or **inaccurate records** from a dataset is called **data cleaning**.\n",
    "\n",
    "Its goal is to improve the quality of data, thereby ensuring more **reliable analytics**, **reporting**, and **modeling**.\n",
    "\n",
    "Data cleaning is a critical step in data preprocessing because the quality of your data directly affects the performance and outcomes of your data analysis or machine learning models."
   ]
  },
  {
   "cell_type": "markdown",
   "id": "28737b37",
   "metadata": {},
   "source": [
    "In a production environment, I mean an environment where data is collected for immediate analysis. Data cleaning starts at the data collection phase."
   ]
  },
  {
   "cell_type": "markdown",
   "id": "d2dcaf47",
   "metadata": {},
   "source": [
    "Before we proceed, we would like to know what makes a dirty data or why do data needs cleaning? Data needs cleaning because of the following reasons.\n",
    "\n",
    "1. Missing Values\n",
    "2. Inconsistencies\n",
    "3. Duplicate Entries\n",
    "4. Incorrect or out of range values\n",
    "5. Typographical Errors\n",
    "6. Noise(irrelevant entries) and outliers\n",
    "7. Incorrect data types\n",
    "8. Data merging issues.\n",
    "\n",
    "Having a good understanding of these issues is very important because they affect how you plan your data cleaning strategies.\n"
   ]
  },
  {
   "cell_type": "markdown",
   "id": "8772b35a",
   "metadata": {},
   "source": [
    "**Data cleaning Techniques and Methods**"
   ]
  },
  {
   "cell_type": "markdown",
   "id": "c687021b",
   "metadata": {},
   "source": [
    "1. Handling Missing Values\n",
    "\n",
    "\n",
    "*   Deletion: Remove rows or columns with too many missing values.\n",
    "\n",
    "*   Imputation: Replace missing values with descriptive statistics like mean and median for numerical data and mode for categorical data.\n",
    "\n",
    "* Flagging: Create a binary indicator to showing that the data is missing if its important(like NA)\n",
    "\n",
    "2. Removing Duplicates\n",
    "* Identify duplicate records using unique identifiers or by comparing multiple columns.\n",
    "* Remove duplicates, but ensure you dont lose important data.\n",
    "\n",
    "3. Standardize Data Format\n",
    "* Convert datatypes appropriately\n",
    "* Normalize text data(trim whitespace, convert cases)\n",
    "\n",
    "4. Correct Inconsistencies\n",
    "* Map inconsistent representations to a standard format(\"NG\", \"nigeria\" to \"Nigeria\")\n",
    "* use **regex(regualar expression)** or string matching techniquesfor text correction.\n",
    "5. Dealing With Outliers\n",
    "* Use statistical methods to detect outliers (Z-scores or IQR method)\n",
    "* You can decide to remove or cap the outliers(This is based on your domain knowledge though)\n",
    "\n",
    "6. Data Integration\n",
    "* Resolve conflicts when merging by handling mismatched keys or duplicate columns.\n"
   ]
  },
  {
   "cell_type": "markdown",
   "id": "b483cc37",
   "metadata": {},
   "source": [
    "#### **Lets Practice Data Cleaning With a Dirty Dataset**"
   ]
  },
  {
   "cell_type": "markdown",
   "id": "64982ab1",
   "metadata": {},
   "source": [
    "##### **A. PDA**"
   ]
  },
  {
   "cell_type": "code",
   "execution_count": 3,
   "id": "0400e101",
   "metadata": {},
   "outputs": [
    {
     "ename": "ModuleNotFoundError",
     "evalue": "No module named 'google'",
     "output_type": "error",
     "traceback": [
      "\u001b[31m---------------------------------------------------------------------------\u001b[39m",
      "\u001b[31mModuleNotFoundError\u001b[39m                       Traceback (most recent call last)",
      "\u001b[36mCell\u001b[39m\u001b[36m \u001b[39m\u001b[32mIn[3]\u001b[39m\u001b[32m, line 1\u001b[39m\n\u001b[32m----> \u001b[39m\u001b[32m1\u001b[39m \u001b[38;5;28;01mfrom\u001b[39;00m\u001b[38;5;250m \u001b[39m\u001b[34;01mgoogle\u001b[39;00m\u001b[34;01m.\u001b[39;00m\u001b[34;01mcolab\u001b[39;00m\u001b[38;5;250m \u001b[39m\u001b[38;5;28;01mimport\u001b[39;00m drive\n",
      "\u001b[31mModuleNotFoundError\u001b[39m: No module named 'google'"
     ]
    }
   ],
   "source": [
    "from google.colab import drive\n",
    "\n"
   ]
  }
 ],
 "metadata": {
  "kernelspec": {
   "display_name": "benv",
   "language": "python",
   "name": "python3"
  },
  "language_info": {
   "codemirror_mode": {
    "name": "ipython",
    "version": 3
   },
   "file_extension": ".py",
   "mimetype": "text/x-python",
   "name": "python",
   "nbconvert_exporter": "python",
   "pygments_lexer": "ipython3",
   "version": "3.13.7"
  }
 },
 "nbformat": 4,
 "nbformat_minor": 5
}
