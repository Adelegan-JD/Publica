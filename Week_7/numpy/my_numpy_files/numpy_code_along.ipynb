{
 "cells": [
  {
   "cell_type": "markdown",
   "id": "6989f69e",
   "metadata": {},
   "source": [
    "# Understanding Numpy\n",
    "- NumPy (Numerical Python) is the foundation library for scientific computing in Python. It provides a powerful N-dimensional array object and tools for working with these arrays. \n",
    " - Think of NumPy as the engine that powers most data science libraries - pandas uses NumPy arrays internally, scikit-learn expects NumPy arrays for machine learning, and matplotlib uses NumPy for plotting.\n",
    "\n",
    "\n",
    "- NumPy operations are implemented in C, making them 10-100x faster than pure Python\n",
    "- NumPy arrays store data more compactly than Python lists\n",
    "- Vectorization: Perform operations on entire arrays without writing loops\n",
    "- Work with arrays of different shapes seamlessly\n",
    "- Foundation for pandas, scikit-learn, matplotlib, and more"
   ]
  },
  {
   "cell_type": "code",
   "execution_count": 1,
   "id": "79f5ad8f",
   "metadata": {},
   "outputs": [
    {
     "name": "stdout",
     "output_type": "stream",
     "text": [
      "NumPy version: 2.3.2\n"
     ]
    }
   ],
   "source": [
    "# import all necessary libraries \n",
    "\n",
    "import numpy as np\n",
    "import matplotlib.pyplot as plt\n",
    "import time\n",
    "\n",
    "# check NumPy package\n",
    "print(f\"NumPy version: {np.__version__}\")\n",
    "\n",
    "# Display settings for cleaner output\n",
    "np.set_printoptions(precision=3, suppress=True)"
   ]
  },
  {
   "cell_type": "markdown",
   "id": "8664ce7e",
   "metadata": {},
   "source": [
    "**Numpy Data Structure**\n",
    "\n",
    "- NumPy arrays are fundamentally different from Python lists:\n",
    "\n",
    " - Homogeneous: All elements must be the same data type\n",
    " - Fixed size: Size is determined at creation (though you can create new arrays)\n",
    " - Memory efficient: Elements stored in contiguous memory blocks\n",
    " - Vectorized operations: Mathematical operations work on entire arrays"
   ]
  },
  {
   "cell_type": "markdown",
   "id": "de0a82b6",
   "metadata": {},
   "source": [
    "#### Creating Numpy Arrays"
   ]
  },
  {
   "cell_type": "code",
   "execution_count": 2,
   "id": "54fa1e10",
   "metadata": {},
   "outputs": [
    {
     "name": "stdout",
     "output_type": "stream",
     "text": [
      "1D array: [1 2 3 4 5]\n",
      "2D array:\n",
      " [[1 2 3]\n",
      " [4 5 6]]\n",
      "3D array:\n",
      " [[[ 1  2  3]\n",
      "  [ 4  5  6]]\n",
      "\n",
      " [[ 7  8  9]\n",
      "  [10 11 12]]]\n"
     ]
    }
   ],
   "source": [
    "# Creating arrays from Python lists\n",
    "\n",
    "# 1D array: a simple sequence of numbers\n",
    "array1d = np.array([1, 2, 3, 4, 5])\n",
    "\n",
    "# 2D array: This is like a matrix or table with rows and columns\n",
    "array2d = np.array([[1,2,3],\n",
    "                    [4, 5, 6]])\n",
    "\n",
    "\n",
    "# 3D array: This is like a stack of 2D arrays. It is useful for images, time series, etc.\n",
    "array3d = np.array([[[1,2, 3], [4, 5, 6]],\n",
    "                    [[7, 8, 9], [10, 11, 12]]])\n",
    "\n",
    "print(\"1D array:\", array1d)\n",
    "print(\"2D array:\\n\", array2d)\n",
    "print(\"3D array:\\n\", array3d)"
   ]
  },
  {
   "cell_type": "markdown",
   "id": "9ba69e72",
   "metadata": {},
   "source": [
    " When a nested list is passed into np.array(), NumPy automatically determines the dimensions. The 1D array is like a single row, the 2D array is like a spreadsheet and the 3D array is like multiple spreadsheets stacked together.\n",
    " "
   ]
  },
  {
   "cell_type": "markdown",
   "id": "39919485",
   "metadata": {},
   "source": [
    "##### Creating Special Arrays in Python"
   ]
  },
  {
   "cell_type": "code",
   "execution_count": 3,
   "id": "d7873b2e",
   "metadata": {},
   "outputs": [
    {
     "name": "stdout",
     "output_type": "stream",
     "text": [
      "Arrays with zeros in 3 by 4 shape:\n",
      " [[0. 0. 0. 0.]\n",
      " [0. 0. 0. 0.]\n",
      " [0. 0. 0. 0.]]\n",
      "The shape of arrays with ones:\n",
      " (2, 3, 4)\n",
      "Empty arrays which contains random values:\n",
      " [[0. 0.]\n",
      " [0. 0.]] \n",
      "\n",
      "[[[1. 1. 1. 1.]\n",
      "  [1. 1. 1. 1.]\n",
      "  [1. 1. 1. 1.]]\n",
      "\n",
      " [[1. 1. 1. 1.]\n",
      "  [1. 1. 1. 1.]\n",
      "  [1. 1. 1. 1.]]]\n"
     ]
    }
   ],
   "source": [
    "# Creating arrays filled with zeros - Useful for initializing arrays\n",
    "# Shape (3, 4) means 3 rows and 4 columns\n",
    "zeros = np.zeros((3, 4))\n",
    "\n",
    "# Creating arrays filled with ones - Often used as starting points\n",
    "ones = np.ones(((2, 3, 4)))  # 3D array: 2 layers, 3 rows and 4 columns\n",
    "\n",
    "# Creating empty arrays - faster than zeros/ones but contain random values\n",
    "# Use when you will immediately foill the aray with real data\n",
    "empty = np.empty((2, 2))\n",
    "\n",
    "print(\"Arrays with zeros in 3 by 4 shape:\\n\", zeros)\n",
    "print(\"The shape of arrays with ones:\\n\", ones.shape)\n",
    "print(\"Empty arrays which contains random values:\\n\", empty, \"\\n\")\n",
    "\n",
    "print(ones)"
   ]
  },
  {
   "cell_type": "markdown",
   "id": "7265f4ec",
   "metadata": {},
   "source": [
    "`zeros()` and `ones()` are memory-efficient ways to create arrays of specific sizes. `empty()` is fastest but contains garbage values, so only use it when you'll immediately overwrite the contents."
   ]
  },
  {
   "cell_type": "code",
   "execution_count": 4,
   "id": "23b51c98",
   "metadata": {},
   "outputs": [
    {
     "name": "stdout",
     "output_type": "stream",
     "text": [
      "Range array [ 0  2  4  6  8 10]\n",
      "Linspace array [ 0.  5. 10. 15. 20.]\n",
      "Logspace array [  1.      3.162  10.     31.623 100.   ]\n"
     ]
    }
   ],
   "source": [
    "# Range arrays - This works ike Python's range but is more powerful\n",
    "range_array = np.arange(0, 12, 2)     # Range array from 0 to 11, printing only the \n",
    "print(\"Range array\", range_array)\n",
    "\n",
    "#Linearly spaced arrays- divide arange into two equal parts\n",
    "#From 0 to 20 with exactly 5 points (including endpoints)\n",
    "linspace_array = np.linspace(0, 20, 5)\n",
    "print(\"Linspace array\", linspace_array)\n",
    "\n",
    "# Logarithmically spaced arrays - useful for scientific data\n",
    "# From 10^0 to 10^2 (1 to 100) with 5 points\n",
    "logspace_array = np.logspace(0, 2, 5)\n",
    "print(\"Logspace array\", logspace_array)\n"
   ]
  },
  {
   "cell_type": "markdown",
   "id": "52bed75c",
   "metadata": {},
   "source": [
    "- `arange()` works like Python's range() but returns a NumPy array and works with floats.\n",
    "- `linspace()` divides a range into equal segments - useful for plotting smooth curves.\n",
    "- `logspace()` creates points that are evenly spaced on a logarithmic scale."
   ]
  },
  {
   "cell_type": "code",
   "execution_count": null,
   "id": "5be73ac7",
   "metadata": {},
   "outputs": [
    {
     "name": "stdout",
     "output_type": "stream",
     "text": [
      "Identity matrix\n",
      " [[1. 0. 0. 0.]\n",
      " [0. 1. 0. 0.]\n",
      " [0. 0. 1. 0.]\n",
      " [0. 0. 0. 1.]]\n",
      "\n",
      "Diagonal array\n",
      " [[1 0 0 0]\n",
      " [0 2 0 0]\n",
      " [0 0 3 0]\n",
      " [0 0 0 4]]\n",
      "\n",
      "Full array\n",
      " [[6 7 6 6]\n",
      " [6 7 6 6]\n",
      " [6 7 6 6]]\n"
     ]
    }
   ],
   "source": [
    "# Identity matrix - diagonal of ones, zeros elsewhere/other places\n",
    "# Essential for linear algebra operations\n",
    "identity = np.eye(4)        # 4 x 4 identity matrix\n",
    "print(\"Identity matrix\\n\", identity)\n",
    "\n",
    "# Diagonal matrix: This puts values on the diagonal\n",
    "diagonal = np.diag([1, 2, 3, 4])\n",
    "print(\"\\nDiagonal array\\n\", diagonal)\n",
    "\n",
    "# Arrays filled with a random values\n",
    "rand = np.random.randint(0, 10, size=4)     # Random numbers from 0 to 9 \n",
    "full_array = np.full((3, 4), rand)     # 3 x 4 array filled with random numbers from 0 to 9\n",
    "print(\"\\nFull array\\n\", full_array)\n",
    "\n"
   ]
  },
  {
   "cell_type": "markdown",
   "id": "c0158852",
   "metadata": {},
   "source": [
    "Identity matrices are crucial in linear algebra - multiplying any matrix by an identity matrix and returns the original matrix.\n",
    "Diagonal matrices are useful for scaling operations."
   ]
  },
  {
   "cell_type": "markdown",
   "id": "f8740a1b",
   "metadata": {},
   "source": [
    "#### Numpy Data Types(dtypes)\n",
    "\n",
    "* Understanding data types is crucial for memory efficiency and numerical precision"
   ]
  },
  {
   "cell_type": "code",
   "execution_count": 6,
   "id": "07a1e032",
   "metadata": {},
   "outputs": [
    {
     "name": "stdout",
     "output_type": "stream",
     "text": [
      "Integer array:  [1 2 3]\n",
      "Float array:  [1. 2. 3.]\n",
      "Boolean array:  [ True False  True]\n",
      "Converted dtype array:  [1. 2. 3.]\n",
      "\n",
      "int32 uses 4 bytes per element\n",
      "float64 uses 8 bytes per element\n"
     ]
    }
   ],
   "source": [
    "# Explicit data types - controls memory usage and precisiuon\n",
    "int_array = np.array([1, 2, 3], dtype=np.int32)\n",
    "float_array = np.array([1, 2, 3], dtype= np.float64)\n",
    "bool_array = np.array([True, False, True], dtype=np.bool_)\n",
    "\n",
    "# Type conversion - change dtype of existing array\n",
    "converted = int_array.astype(np.float32)        # Convert 64-bit to 32-bit\n",
    "\n",
    "print(\"Integer array: \", int_array)\n",
    "print(\"Float array: \", float_array)\n",
    "print(\"Boolean array: \", bool_array)\n",
    "print(\"Converted dtype array: \", converted)\n",
    "\n",
    "# Memory usage comparison\n",
    "print(f\"\\nint32 uses {int_array.itemsize} bytes per element\")\n",
    "print(f\"float64 uses {float_array.itemsize} bytes per element\")"
   ]
  },
  {
   "cell_type": "markdown",
   "id": "ea79d317",
   "metadata": {},
   "source": [
    "- int8: 1 byte, range -128 to 127\n",
    "- int32: 4 bytes, range ±2 billion\n",
    "- float32: 4 bytes, ~7 decimal digits precision\n",
    "- float64: 8 bytes, ~15 decimal digits precision\n",
    "\n",
    "- Choose smaller types to save memory, larger types for precision"
   ]
  },
  {
   "cell_type": "markdown",
   "id": "efffc081",
   "metadata": {},
   "source": [
    "**Array Properties & Attributes**\n",
    "\n",
    "- Understanding array properties helps you work effectively with your data and debug issue"
   ]
  },
  {
   "cell_type": "code",
   "execution_count": 7,
   "id": "20feb1c1",
   "metadata": {},
   "outputs": [
    {
     "name": "stdout",
     "output_type": "stream",
     "text": [
      "Shape: (3, 4, 5)\n",
      "\n",
      "Size: 60\n",
      "\n",
      "N-Dimension: 3\n",
      "\n",
      "Dtype: float64\n",
      "\n",
      "Itemsize: 8\n",
      "\n",
      "Memory usage: 480 bytes\n",
      "Memory usage: 0.46875 KB\n"
     ]
    }
   ],
   "source": [
    "# Create a simple 3D array for demonstration\n",
    "# Think of this as 3 layers, each with 4 rows and 5 columns\n",
    "array = np.random.randn(3, 4, 5)            # Output: (3, 4,5)\n",
    "\n",
    "# Shape: The dimensions of the array (layers, rows, and columns)\n",
    "print(\"Shape:\", array.shape)\n",
    "\n",
    "# Size: Total number of elements (3 x 4 x 5 = 60)\n",
    "print(\"\\nSize:\", array.size)\n",
    "\n",
    "# Ndim: Number of dimensions, 3D in this case\n",
    "print(\"\\nN-Dimension:\", array.ndim)\n",
    "\n",
    "# Dtype: Data type of each element\n",
    "print(\"\\nDtype:\", array.dtype)     # Usually float64 for random numbers\n",
    "\n",
    "# #Item size: Memory size of each element in bytes\n",
    "print(\"\\nItemsize:\", array.itemsize)       # 8 bytes for float64\n",
    "\n",
    "# Total memory usage in bytes and KB\n",
    "print(\"\\nMemory usage:\", array.nbytes, \"bytes\")       # size x itemsize\n",
    "print(\"Memory usage:\", array.nbytes / 1024, \"KB\")\n"
   ]
  },
  {
   "cell_type": "markdown",
   "id": "1c3cbf5c",
   "metadata": {},
   "source": [
    "These properties are essential for understanding your data's structure and memory requirements. Large datasets require careful attention to memory usage."
   ]
  },
  {
   "cell_type": "markdown",
   "id": "56a77513",
   "metadata": {},
   "source": [
    "**Array Indexing & Slicing**"
   ]
  },
  {
   "cell_type": "markdown",
   "id": "572b5a15",
   "metadata": {},
   "source": [
    " **Basic Indexing - Accessing Individual Elements**\n",
    "\n",
    "- NumPy indexing is similar to Python lists but more powerful for multi-dimensional arrays"
   ]
  },
  {
   "cell_type": "code",
   "execution_count": 8,
   "id": "65d5eb30",
   "metadata": {},
   "outputs": [
    {
     "name": "stdout",
     "output_type": "stream",
     "text": [
      "First element: 10\n",
      "Last element: 50\n",
      "Slice [1:4]: [20 30 40]\n",
      "Every 3rd element: [10 30 50]\n"
     ]
    }
   ],
   "source": [
    "# 1D arraym indexing - similar to Python lists\n",
    "array1d = np.array([10, 20, 30, 40, 50])\n",
    "\n",
    "print(\"First element:\", array1d[0])     # Index 0 is 10\n",
    "print(\"Last element:\", array1d[-1])     # Negative indexing: 50\n",
    "print(\"Slice [1:4]:\", array1d[1:4])     # Elements 1, 2, 3 : [20, 30, 40]\n",
    "print(\"Every 3rd element:\", array1d[::2])   # Step of 2: [10, 30, 50]"
   ]
  },
  {
   "cell_type": "markdown",
   "id": "8c828bb7",
   "metadata": {},
   "source": [
    "Negative indices count from the end(-1 is the last element). Slicing uses [start:stop:step] where stop is exclusive"
   ]
  },
  {
   "cell_type": "code",
   "execution_count": 9,
   "id": "c3ca6626",
   "metadata": {},
   "outputs": [
    {
     "name": "stdout",
     "output_type": "stream",
     "text": [
      "Element at row 1, column 2: 7\n",
      "\n",
      "First row: [1 2 3 4]\n",
      "Second row: [5 6 7 8]\n",
      "Third row: [ 9 10 11 12]\n",
      "\n",
      "First column: [1 5 9]\n",
      "Second column: [ 2  6 10]\n",
      "Third column: [ 3  7 11]\n",
      "Fourth column: [ 4  8 12]\n"
     ]
    }
   ],
   "source": [
    "# 2D array indxing - row an dcolumn access\n",
    "array2d = np.array([[1, 2, 3, 4],\n",
    "                    [5, 6, 7, 8],\n",
    "                    [9, 10, 11, 12]])\n",
    "\n",
    "# Access specific element [row, column]\n",
    "print(\"Element at row 1, column 2:\", array2d[1, 2])\n",
    "\n",
    "# Access entire rows \n",
    "print(\"\\nFirst row:\", array2d[0, :])        # All columns of row 0\n",
    "print(\"Second row:\", array2d[1, :])         # All columns of row 1\n",
    "print(\"Third row:\", array2d[2, :])          # All columns of row 2\n",
    "\n",
    "# Access entire columns\n",
    "print(\"\\nFirst column:\", array2d[:, 0])     # All rows of column 0\n",
    "print(\"Second column:\", array2d[:, 1])      # All rows of column 1\n",
    "print(\"Third column:\", array2d[:, 2])       # All rows of column 2\n",
    "print(\"Fourth column:\", array2d[:, 3])      # All columns of row 3"
   ]
  },
  {
   "cell_type": "markdown",
   "id": "b229101f",
   "metadata": {},
   "source": [
    "The comma separates dimensions. : means \"all elements along this dimension\". Slicing creates views of the original data when possible, not copies."
   ]
  },
  {
   "cell_type": "markdown",
   "id": "c056701b",
   "metadata": {},
   "source": [
    "**Advanced Indexing - Powerful Selecion Methods**"
   ]
  },
  {
   "cell_type": "code",
   "execution_count": null,
   "id": "1aa8ef3d",
   "metadata": {},
   "outputs": [
    {
     "name": "stdout",
     "output_type": "stream",
     "text": [
      "Fancy indexing: [20 30 50]\n"
     ]
    }
   ],
   "source": [
    "# Fancy indexing - use arrays of indices to select elements\n",
    "arr = np.array([10, 20, 30, 40, 50, 60])\n",
    "indices = np.array([1, 2, 4])       #   This selects elements at positions 01 2, and 4\n",
    "print(\"Fancy indexing:\", arr[indices])"
   ]
  },
  {
   "cell_type": "markdown",
   "id": "984b5359",
   "metadata": {},
   "source": [
    "Fancy indexing lets you select elements in any order, repeat elements, and select non-contiguous elements. Very useful for data sampling and reordering."
   ]
  },
  {
   "cell_type": "code",
   "execution_count": 30,
   "id": "6dc9ddfc",
   "metadata": {},
   "outputs": [
    {
     "name": "stdout",
     "output_type": "stream",
     "text": [
      "Original 2D array:\n",
      " [[ 0  1  2  3]\n",
      " [ 4  5  6  7]\n",
      " [ 8  9 10 11]]\n",
      "Elements at (0, 1) and (2, 3): [ 1 11]\n"
     ]
    }
   ],
   "source": [
    "# 2D fancy indexing - select specific row/column combinations       \n",
    "arr2d = np.arange(12).reshape(3, 4)\n",
    "print(\"Original 2D array:\\n\", arr2d)        # Output:  Original 2D array: [[ 0  1  2  3] [ 4  5  6  7] [ 8  9 10 11]]\n",
    "\n",
    "# Select element at (row, column) pairs: (0, 1) and (2, 3)\n",
    "rows = np.array([0, 2])\n",
    "columns = np.array([1, 3])\n",
    "print(\"Elements at (0, 1) and (2, 3):\", arr2d[rows, columns])\n",
    "# Select element at (row, column) pairs"
   ]
  },
  {
   "cell_type": "markdown",
   "id": "a42e6f58",
   "metadata": {},
   "source": [
    "When you provide arrays for both dimensions, NumPy pairs them element-wise. This is different from slicing, which creates a rectangular subarray."
   ]
  },
  {
   "cell_type": "markdown",
   "id": "5e32eb6e",
   "metadata": {},
   "source": [
    "**Array Reshaping & Manipulation**\n",
    "\n",
    "- Reshaping changes how the same data is organized in memory without changing the actual values.\n"
   ]
  },
  {
   "cell_type": "code",
   "execution_count": null,
   "id": "c4cae35e",
   "metadata": {},
   "outputs": [
    {
     "name": "stdout",
     "output_type": "stream",
     "text": [
      "The 1D array is now rehaped to 2D array with 3 rows and 4 columns:\n",
      " [[ 0  1  2  3]\n",
      " [ 4  5  6  7]\n",
      " [ 8  9 10 11]]\n",
      "Reshaped to 2 x 2 x 3:\n",
      " [[[ 0  1  2]\n",
      "  [ 3  4  5]]\n",
      "\n",
      " [[ 6  7  8]\n",
      "  [ 9 10 11]]]\n",
      "Auto-reshaped to 4x:\n",
      " [[ 0  1  2]\n",
      " [ 3  4  5]\n",
      " [ 6  7  8]\n",
      " [ 9 10 11]]\n"
     ]
    }
   ],
   "source": [
    "# Start with 1D array\n",
    "array_1D = np.arange(12)  # Output: \n",
    "\n",
    "# To reshape to 2D, breaking it to 3 rows and 4 columns\n",
    "reshaped_2d = array_1D.reshape(3, 4)\n",
    "print(\"The 1D array is now rehaped to 2D array with 3 rows and 4 columns:\\n\", reshaped_2d)\n",
    "\n",
    "# Reshape to 3D: 2 layers x 2 rows x 3 columns\n",
    "reshaped_3d = reshaped_2d.reshape(2, 2, 3)\n",
    "print(\"Reshaped to 2 x 2 x 3:\\n\", reshaped_3d)\n",
    "\n",
    "# Use -1 to let NumPy calculate one dimension automatically\n",
    "auto_reshape = array_1D.reshape(4, -7)       # 4 rows, NumPy calculates columns, regardless of the number enetered. Just ensure the column number is negative\n",
    "print(\"Auto-reshaped to 4x:\\n\", auto_reshape)\n",
    "\n",
    "\n"
   ]
  },
  {
   "cell_type": "markdown",
   "id": "2eef9d68",
   "metadata": {},
   "source": [
    "The total number of elements must remain the same (12 in this case). Using -1 tells NumPy to calculate that dimension automatically. Reshaping creates a view when possible, not a copy"
   ]
  },
  {
   "cell_type": "code",
   "execution_count": null,
   "id": "88d4bb3e",
   "metadata": {},
   "outputs": [
    {
     "name": "stdout",
     "output_type": "stream",
     "text": [
      "Flattened (copy): [1 2 3 4 5 6]\n",
      "Ravel (view if possible): [1 2 3 4 5 6]\n"
     ]
    }
   ],
   "source": [
    "# Flattening : This converts multi-dimensional arrays to 1D\n",
    "array2d = np.array([[1, 2, 3], [4, 5, 6]])\n",
    "\n",
    "#flatten() always returns a copy\n",
    "flattened = array2d.flatten()\n",
    "print(\"Flattened (copy):\", flattened)\n",
    "\n",
    "#  ravel() returns a view if possible (faster, memory efficient)\n",
    "ravel = array2d.ravel()\n",
    "print(\"Ravel (view if possible):\", ravel)"
   ]
  },
  {
   "cell_type": "code",
   "execution_count": null,
   "id": "7ae49d5e",
   "metadata": {},
   "outputs": [],
   "source": []
  }
 ],
 "metadata": {
  "kernelspec": {
   "display_name": "numpy_environment",
   "language": "python",
   "name": "python3"
  },
  "language_info": {
   "codemirror_mode": {
    "name": "ipython",
    "version": 3
   },
   "file_extension": ".py",
   "mimetype": "text/x-python",
   "name": "python",
   "nbconvert_exporter": "python",
   "pygments_lexer": "ipython3",
   "version": "3.13.7"
  }
 },
 "nbformat": 4,
 "nbformat_minor": 5
}
