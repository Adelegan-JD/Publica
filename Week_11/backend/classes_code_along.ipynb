{
 "cells": [
  {
   "cell_type": "markdown",
   "id": "481cc2dc",
   "metadata": {},
   "source": [
    "1. Introduction to Classes\n",
    "2. Why Classes are Important\n",
    "3. Basic Class Structure\n",
    "4. Objects and Instances\n",
    "5. The __init__ Method\n",
    "6. Understanding `self`\n",
    "7. Attributes\n",
    "8. Methods\n",
    "9. Other Important Methods\n",
    "10. Simple Examples\n",
    "11. Intermediate Examples\n",
    "12. Complex Examples\n",
    "13. Best Practices"
   ]
  },
  {
   "cell_type": "markdown",
   "id": "f34cdb95",
   "metadata": {},
   "source": [
    "**What is a Class?**\n",
    "\n",
    "A class is like a blueprint or template that defines what something should look like and what it can do. Think of it as a meat pie cutter - it defines the shape and characteristics, but it's not the actual meat pie itself.\n",
    "\n",
    "- Take a look at this;\n",
    "\n",
    " - A house blueprint shows where rooms go, but it's not a house you can live in.\n",
    " - A car design document describes features, but you can't drive the design.\n",
    " - A recipe tells you how to make a cake, but the recipe is not edible."
   ]
  },
  {
   "cell_type": "markdown",
   "id": "afe99885",
   "metadata": {},
   "source": [
    "**Object/Instance**\n",
    "\n",
    "**What is an Object/Instance?**\n",
    "\n",
    "An object (also called an instance) is a specific, real item created from a class blueprint. It's the actual \"thing\" you can use and interact with.\n",
    "\n",
    "- Take a loop at this;\n",
    "  - Your actual house built from the blueprint.\n",
    "  - A specific Toyota Camry manufactured from car designs.\n",
    "  - The delicious cake baked from the recipe."
   ]
  },
  {
   "cell_type": "markdown",
   "id": "f2cb1ad0",
   "metadata": {},
   "source": [
    "### Key Characteristics of Classes\n",
    "\n",
    "- Encapsulation: Groups related data and functions together\n",
    "- Abstraction: Hides complex implementation details\n",
    "- Inheritance: Can create new classes based on existing ones (Reusability -Write once, use many times)"
   ]
  },
  {
   "cell_type": "markdown",
   "id": "4297b1b0",
   "metadata": {},
   "source": [
    "### Why Classes are Important\n",
    "\n",
    "- Classes help us:\n",
    "\n",
    "   - Organize Code: Keep related data and functions together\n",
    "   - Model Real World: Represent real-world entities in code\n",
    "   - Reduce Repetition: Avoid writing the same code multiple times\n",
    "   - Maintain Code: Easier to update and fix bugs\n",
    "   - Scale Applications: Build larger, more complex programs"
   ]
  },
  {
   "cell_type": "markdown",
   "id": "f2fa125b",
   "metadata": {},
   "source": [
    "**The Foundation**\n",
    "\n",
    "\n",
    "-  `__init__` and `self`\n",
    "\n",
    "   - Before we dive into attributes and methods, we need to understand two special concepts that make everything work: __init__ and self."
   ]
  },
  {
   "cell_type": "markdown",
   "id": "48629a65",
   "metadata": {},
   "source": [
    "`__init__` is a special method (called a constructor) that automatically runs when you create a new object. Think of it as the \"birth certificate\" process - it sets up all the basic information about the new object.\n"
   ]
  },
  {
   "cell_type": "markdown",
   "id": "91fc872d",
   "metadata": {},
   "source": [
    "**Real-World Analogy**\n",
    "\n",
    "- When a baby is born in Nigeria, certain things happen automatically:\n",
    "\n",
    "   - Birth certificate is created\n",
    "   - Name is assigned\n",
    "   - Parents are recorded\n",
    "-  - Date of birth is noted\n",
    "\n",
    "- Similarly, when an object is \"born\" (created), `__init__` automatically:\n",
    "\n",
    "   - Sets up the object's attributes\n",
    "   - Assigns initial values\n",
    "   - Prepares the object for use"
   ]
  },
  {
   "cell_type": "code",
   "execution_count": null,
   "id": "fd237b4f",
   "metadata": {},
   "outputs": [
    {
     "ename": "",
     "evalue": "",
     "output_type": "error",
     "traceback": [
      "\u001b[1;31mFailed to start the Kernel. \n",
      "\u001b[1;31mUnable to start Kernel 'Python 3.13.7' due to a timeout waiting for the ports to get used. \n",
      "\u001b[1;31mView Jupyter <a href='command:jupyter.viewOutput'>log</a> for further details."
     ]
    }
   ],
   "source": [
    "class Student:\n",
    "    def __init__(self, name, course, level):\n",
    "        print('Creating a new student')\n",
    "        self.name = name\n",
    "        self.course = course\n",
    "        self.level = level\n",
    "        print(f'Student {name} has been created!')"
   ]
  },
  {
   "cell_type": "code",
   "execution_count": null,
   "id": "2c386f3a",
   "metadata": {},
   "outputs": [],
   "source": [
    "# When you create a student, __init__ runs automatically\n",
    "kemi = Student('Kemi Adebayo', 'Computer Science', 300)"
   ]
  },
  {
   "cell_type": "markdown",
   "id": "944b0c21",
   "metadata": {},
   "source": [
    "**What is self ?**\n",
    "`self` is a reference to the specific object you're working with. It's like saying \"this particular student\" or \"this specific bank account.\"\n",
    "\n",
    "**Real-World Analogy**\n",
    "- In a classroom with many students:\n",
    " \n",
    "   - When the teacher says \"Kemi, what is your course?\" - \"your\" refers to Kemi specifically\n",
    "   - When the teacher says \"Chinedu, what is your level?\" - \"your\" refers to Chinedu specifically\n",
    "\n",
    "- In programming:\n",
    "\n",
    "   - self.name means \"this specific object's name\"\n",
    "   - self.course means \"this specific object's course\""
   ]
  },
  {
   "cell_type": "markdown",
   "id": "10648000",
   "metadata": {},
   "source": [
    "**Visual Illustration**\n",
    "```\n",
    "Class: Student (The Template)\n",
    "├── def __init__(self, name, course):\n",
    "│   ├── self.name = name      ← \"Give THIS object a name\"\n",
    "│   └── self.course = course  ← \"Give THIS object a course\"\n",
    "\n",
    "Creating Objects:\n",
    "├── kemi = Student(\"Kemi\", \"CS\")\n",
    "│   └── self refers to kemi → kemi.name = \"Kemi\"\n",
    "├── chinedu = Student(\"Chinedu\", \"Engineering\") \n",
    "│   └── self refers to chinedu → chinedu.name = \"Chinedu\"\n",
    "└── fatima = Student(\"Fatima\", \"Medicine\")\n",
    "    └── self refers to fatima → fatima.name = \"Fatima\"\n",
    "\n",
    "```"
   ]
  },
  {
   "cell_type": "markdown",
   "id": "af93eea0",
   "metadata": {},
   "source": [
    "**How __init__ and self Work Together**"
   ]
  },
  {
   "cell_type": "code",
   "execution_count": null,
   "metadata": {},
   "outputs": [
    {
     "ename": "",
     "evalue": "",
     "output_type": "error",
     "traceback": [
      "\u001b[1;31mFailed to start the Kernel. \n",
      "\u001b[1;31mUnable to start Kernel 'Python 3.13.7' due to a timeout waiting for the ports to get used. \n",
      "\u001b[1;31mView Jupyter <a href='command:jupyter.viewOutput'>log</a> for further details."
     ]
    }
   ],
   "source": [
    "class NigerianStudent:\n",
    "    def __init__(self, name, state, course):\n",
    "        \n",
    "    "
   ]
  },
  {
   "cell_type": "code",
   "execution_count": null,
   "id": "5ec3548a",
   "metadata": {},
   "outputs": [],
   "source": []
  }
 ],
 "metadata": {
  "kernelspec": {
   "display_name": "Python 3",
   "language": "python",
   "name": "python3"
  },
  "language_info": {
   "name": "python",
   "version": "3.13.7"
  }
 },
 "nbformat": 4,
 "nbformat_minor": 5
}
