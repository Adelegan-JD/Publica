{
 "cells": [
  {
   "cell_type": "markdown",
   "id": "481cc2dc",
   "metadata": {},
   "source": [
    "1. Introduction to Classes\n",
    "2. Why Classes are Important\n",
    "3. Basic Class Structure\n",
    "4. Objects and Instances\n",
    "5. The __init__ Method\n",
    "6. Understanding `self`\n",
    "7. Attributes\n",
    "8. Methods\n",
    "9. Other Important Methods\n",
    "10. Simple Examples\n",
    "11. Intermediate Examples\n",
    "12. Complex Examples\n",
    "13. Best Practices"
   ]
  },
  {
   "cell_type": "markdown",
   "id": "f34cdb95",
   "metadata": {},
   "source": [
    "**What is a Class?**\n",
    "\n",
    "A class is like a blueprint or template that defines what something should look like and what it can do. Think of it as a meat pie cutter - it defines the shape and characteristics, but it's not the actual meat pie itself.\n",
    "\n",
    "- Take a look at this;\n",
    "\n",
    " - A house blueprint shows where rooms go, but it's not a house you can live in.\n",
    " - A car design document describes features, but you can't drive the design.\n",
    " - A recipe tells you how to make a cake, but the recipe is not edible."
   ]
  },
  {
   "cell_type": "markdown",
   "id": "afe99885",
   "metadata": {},
   "source": [
    "**Object/Instance**\n",
    "\n",
    "**What is an Object/Instance?**\n",
    "\n",
    "An object (also called an instance) is a specific, real item created from a class blueprint. It's the actual \"thing\" you can use and interact with.\n",
    "\n",
    "- Take a loop at this;\n",
    "  - Your actual house built from the blueprint.\n",
    "  - A specific Toyota Camry manufactured from car designs.\n",
    "  - The delicious cake baked from the recipe."
   ]
  },
  {
   "cell_type": "markdown",
   "id": "f2cb1ad0",
   "metadata": {},
   "source": [
    "### Key Characteristics of Classes\n",
    "\n",
    "- Encapsulation: Groups related data and functions together\n",
    "- Abstraction: Hides complex implementation details\n",
    "- Inheritance: Can create new classes based on existing ones (Reusability -Write once, use many times)"
   ]
  },
  {
   "cell_type": "markdown",
   "id": "4297b1b0",
   "metadata": {},
   "source": [
    "### Why Classes are Important\n",
    "\n",
    "- Classes help us:\n",
    "\n",
    "   - Organize Code: Keep related data and functions together\n",
    "   - Model Real World: Represent real-world entities in code\n",
    "   - Reduce Repetition: Avoid writing the same code multiple times\n",
    "   - Maintain Code: Easier to update and fix bugs\n",
    "   - Scale Applications: Build larger, more complex programs"
   ]
  },
  {
   "cell_type": "markdown",
   "id": "f2fa125b",
   "metadata": {},
   "source": [
    "**The Foundation**\n",
    "\n",
    "\n",
    "-  `__init__` and `self`\n",
    "\n",
    "   - Before we dive into attributes and methods, we need to understand two special concepts that make everything work: __init__ and self."
   ]
  },
  {
   "cell_type": "markdown",
   "id": "48629a65",
   "metadata": {},
   "source": [
    "`__init__` is a special method (called a constructor) that automatically runs when you create a new object. Think of it as the \"birth certificate\" process - it sets up all the basic information about the new object.\n"
   ]
  },
  {
   "cell_type": "markdown",
   "id": "91fc872d",
   "metadata": {},
   "source": [
    "**Real-World Analogy**\n",
    "\n",
    "- When a baby is born in Nigeria, certain things happen automatically:\n",
    "\n",
    "   - Birth certificate is created\n",
    "   - Name is assigned\n",
    "   - Parents are recorded\n",
    "-  - Date of birth is noted\n",
    "\n",
    "- Similarly, when an object is \"born\" (created), `__init__` automatically:\n",
    "\n",
    "   - Sets up the object's attributes\n",
    "   - Assigns initial values\n",
    "   - Prepares the object for use"
   ]
  },
  {
   "cell_type": "code",
   "execution_count": 1,
   "id": "fd237b4f",
   "metadata": {},
   "outputs": [],
   "source": [
    "class Student:\n",
    "    def __init__(self, name, course, level):\n",
    "        print('Creating a new student')\n",
    "        self.name = name\n",
    "        self.course = course\n",
    "        self.level = level\n",
    "        print(f'Student {name} has been created!')"
   ]
  },
  {
   "cell_type": "code",
   "execution_count": 2,
   "id": "2c386f3a",
   "metadata": {},
   "outputs": [
    {
     "name": "stdout",
     "output_type": "stream",
     "text": [
      "Creating a new student\n",
      "Student Kemi Adebayo has been created!\n"
     ]
    }
   ],
   "source": [
    "# When you create a student, __init__ runs automatically\n",
    "kemi = Student('Kemi Adebayo', 'Computer Science', 300)"
   ]
  },
  {
   "cell_type": "markdown",
   "id": "944b0c21",
   "metadata": {},
   "source": [
    "**What is self ?**\n",
    "`self` is a reference to the specific object you're working with. It's like saying \"this particular student\" or \"this specific bank account.\"\n",
    "\n",
    "**Real-World Analogy**\n",
    "- In a classroom with many students:\n",
    " \n",
    "   - When the teacher says \"Kemi, what is your course?\" - \"your\" refers to Kemi specifically\n",
    "   - When the teacher says \"Chinedu, what is your level?\" - \"your\" refers to Chinedu specifically\n",
    "\n",
    "- In programming:\n",
    "\n",
    "   - self.name means \"this specific object's name\"\n",
    "   - self.course means \"this specific object's course\""
   ]
  },
  {
   "cell_type": "markdown",
   "id": "10648000",
   "metadata": {},
   "source": [
    "**Visual Illustration**\n",
    "```\n",
    "Class: Student (The Template)\n",
    "├── def __init__(self, name, course):\n",
    "│   ├── self.name = name      ← \"Give THIS object a name\"\n",
    "│   └── self.course = course  ← \"Give THIS object a course\"\n",
    "\n",
    "Creating Objects:\n",
    "├── kemi = Student(\"Kemi\", \"CS\")\n",
    "│   └── self refers to kemi → kemi.name = \"Kemi\"\n",
    "├── chinedu = Student(\"Chinedu\", \"Engineering\") \n",
    "│   └── self refers to chinedu → chinedu.name = \"Chinedu\"\n",
    "└── fatima = Student(\"Fatima\", \"Medicine\")\n",
    "    └── self refers to fatima → fatima.name = \"Fatima\"\n",
    "\n",
    "```"
   ]
  },
  {
   "cell_type": "markdown",
   "id": "af93eea0",
   "metadata": {},
   "source": [
    "**How __init__ and self Work Together**"
   ]
  },
  {
   "cell_type": "code",
   "execution_count": 3,
   "metadata": {},
   "outputs": [],
   "source": [
    "class NigerianStudent:\n",
    "    def __init__(self, name, state, course):\n",
    "        print('Step 1: creating student object...')\n",
    "        self.name = name        # Step 2: Assign the attribute name to THIS object\n",
    "        self.state_of_origin = state        # Step 3: Assign state of origin to THIS object\n",
    "        self.course = course        # Step 4: Assign course to THIS object\n",
    "        self.student_id = self.generate(id)     # Step 5: Generate ID for THIS object\n",
    "        print(f'Step 6: {self.name} from {self.state_of_origin} is ready')\n",
    "\n",
    "    def generate_id(self):\n",
    "        import random\n",
    "        return f'UNIUYO{random.randint(1000, 9999)}'"
   ]
  },
  {
   "cell_type": "code",
   "execution_count": 4,
   "id": "5ec3548a",
   "metadata": {},
   "outputs": [
    {
     "name": "stdout",
     "output_type": "stream",
     "text": [
      "Step 1: creating student object...\n"
     ]
    },
    {
     "ename": "AttributeError",
     "evalue": "'NigerianStudent' object has no attribute 'generate'",
     "output_type": "error",
     "traceback": [
      "\u001b[31m---------------------------------------------------------------------------\u001b[39m",
      "\u001b[31mAttributeError\u001b[39m                            Traceback (most recent call last)",
      "\u001b[36mCell\u001b[39m\u001b[36m \u001b[39m\u001b[32mIn[4]\u001b[39m\u001b[32m, line 2\u001b[39m\n\u001b[32m      1\u001b[39m \u001b[38;5;66;03m# When I create an object, here's what happens\u001b[39;00m\n\u001b[32m----> \u001b[39m\u001b[32m2\u001b[39m ayo = \u001b[43mNigerianStudent\u001b[49m\u001b[43m(\u001b[49m\u001b[33;43m'\u001b[39;49m\u001b[33;43mAyo Daniel\u001b[39;49m\u001b[33;43m'\u001b[39;49m\u001b[43m,\u001b[49m\u001b[43m \u001b[49m\u001b[33;43m'\u001b[39;49m\u001b[33;43mLagos\u001b[39;49m\u001b[33;43m'\u001b[39;49m\u001b[43m,\u001b[49m\u001b[43m \u001b[49m\u001b[33;43m'\u001b[39;49m\u001b[33;43mStatisitcs\u001b[39;49m\u001b[33;43m'\u001b[39;49m\u001b[43m)\u001b[49m      \u001b[38;5;66;03m# Ayo is the object in this case, and it inherits all the attributes of the class earlier created\u001b[39;00m\n\u001b[32m      4\u001b[39m \u001b[38;5;28mprint\u001b[39m(ayo.name)     \u001b[38;5;66;03m#this returns the attribute of the object(ayo) specified\u001b[39;00m\n\u001b[32m      5\u001b[39m \u001b[38;5;28mprint\u001b[39m(ayo.student_id)       \u001b[38;5;66;03m# this returns the student_id of object \"ayo\"\u001b[39;00m\n",
      "\u001b[36mCell\u001b[39m\u001b[36m \u001b[39m\u001b[32mIn[3]\u001b[39m\u001b[32m, line 7\u001b[39m, in \u001b[36mNigerianStudent.__init__\u001b[39m\u001b[34m(self, name, state, course)\u001b[39m\n\u001b[32m      5\u001b[39m \u001b[38;5;28mself\u001b[39m.state_of_origin = state        \u001b[38;5;66;03m# Step 3: Assign state of origin to THIS object\u001b[39;00m\n\u001b[32m      6\u001b[39m \u001b[38;5;28mself\u001b[39m.course = course        \u001b[38;5;66;03m# Step 4: Assign course to THIS object\u001b[39;00m\n\u001b[32m----> \u001b[39m\u001b[32m7\u001b[39m \u001b[38;5;28mself\u001b[39m.student_id = \u001b[38;5;28;43mself\u001b[39;49m\u001b[43m.\u001b[49m\u001b[43mgenerate\u001b[49m(\u001b[38;5;28mid\u001b[39m)     \u001b[38;5;66;03m# Step 5: Generate ID for THIS object\u001b[39;00m\n\u001b[32m      8\u001b[39m \u001b[38;5;28mprint\u001b[39m(\u001b[33mf\u001b[39m\u001b[33m'\u001b[39m\u001b[33mStep 6: \u001b[39m\u001b[38;5;132;01m{\u001b[39;00m\u001b[38;5;28mself\u001b[39m.name\u001b[38;5;132;01m}\u001b[39;00m\u001b[33m from \u001b[39m\u001b[38;5;132;01m{\u001b[39;00m\u001b[38;5;28mself\u001b[39m.state_of_origin\u001b[38;5;132;01m}\u001b[39;00m\u001b[33m is ready\u001b[39m\u001b[33m'\u001b[39m)\n",
      "\u001b[31mAttributeError\u001b[39m: 'NigerianStudent' object has no attribute 'generate'"
     ]
    }
   ],
   "source": [
    "# When I create an object, here's what happens\n",
    "ayo = NigerianStudent('Ayo Daniel', 'Lagos', 'Statisitcs')      # Ayo is the object in this case, and it inherits all the attributes of the class earlier created\n",
    "\n",
    "print(ayo.name)     #this returns the attribute of the object(ayo) specified\n",
    "print(ayo.student_id)       # this returns the student_id of object \"ayo\""
   ]
  },
  {
   "cell_type": "markdown",
   "id": "19865aec",
   "metadata": {},
   "source": [
    "*more examples*"
   ]
  },
  {
   "cell_type": "code",
   "execution_count": null,
   "id": "c439da78",
   "metadata": {},
   "outputs": [],
   "source": [
    "class PhoneUser:\n",
    "    def __init__(self, name, network):\n",
    "        self.name = name\n",
    "        self.netwotk = network\n",
    "        self.airtime = 0\n",
    "        print(f'Hi {self.name}. You have been registered to {self.network} network')\n",
    "\n",
    "    def buy_airtime(self, amount):\n",
    "        self.airtime += amount  # self ensures that it goes to the RIGHT person\n",
    "        return f'{self.name} has now purchased ₦{self.airtime} airtime on {self.network} sim!'\n",
    "    "
   ]
  },
  {
   "cell_type": "code",
   "execution_count": 5,
   "id": "2a878db9",
   "metadata": {},
   "outputs": [
    {
     "ename": "NameError",
     "evalue": "name 'PhoneUser' is not defined",
     "output_type": "error",
     "traceback": [
      "\u001b[31m---------------------------------------------------------------------------\u001b[39m",
      "\u001b[31mNameError\u001b[39m                                 Traceback (most recent call last)",
      "\u001b[36mCell\u001b[39m\u001b[36m \u001b[39m\u001b[32mIn[5]\u001b[39m\u001b[32m, line 2\u001b[39m\n\u001b[32m      1\u001b[39m \u001b[38;5;66;03m# Creating multiple users\u001b[39;00m\n\u001b[32m----> \u001b[39m\u001b[32m2\u001b[39m abeeb = \u001b[43mPhoneUser\u001b[49m(\u001b[33m'\u001b[39m\u001b[33mAbeeb Bakare\u001b[39m\u001b[33m'\u001b[39m, \u001b[33m'\u001b[39m\u001b[33mMTN\u001b[39m\u001b[33m'\u001b[39m)\n\u001b[32m      3\u001b[39m onisemo = PhoneUser(\u001b[33m'\u001b[39m\u001b[33mOnisemo Williams\u001b[39m\u001b[33m'\u001b[39m, \u001b[33m'\u001b[39m\u001b[33mAirtel\u001b[39m\u001b[33m'\u001b[39m)\n\u001b[32m      4\u001b[39m toyin = PhoneUser(\u001b[33m'\u001b[39m\u001b[33mToyin Adesegun\u001b[39m\u001b[33m'\u001b[39m, \u001b[33m'\u001b[39m\u001b[33mGLO\u001b[39m\u001b[33m'\u001b[39m)\n",
      "\u001b[31mNameError\u001b[39m: name 'PhoneUser' is not defined"
     ]
    }
   ],
   "source": [
    "# Creating multiple users\n",
    "abeeb = PhoneUser('Abeeb Bakare', 'MTN')\n",
    "onisemo = PhoneUser('Onisemo Williams', 'Airtel')\n",
    "toyin = PhoneUser('Toyin Adesegun', 'GLO')\n",
    "abby = PhoneUser('Abby Davies', 'Etisalat')"
   ]
  },
  {
   "cell_type": "code",
   "execution_count": null,
   "id": "82cfd456",
   "metadata": {},
   "outputs": [],
   "source": [
    "# Each person' actions afects only their own account\n",
    "\n",
    "print(abeeb.buy_airtime(500))       #Abeeb Bakare now has ₦500 airtime\n",
    "print(onisemo.buy_airtime(1000))    # Onisemo now has ₦1000 airtime\n",
    "print(toyin.airtime)        # 0 (Toyin's airtime unchanged)\n",
    "print(f'{abby} has {abby.airtime}on her sim.')  # 0 (Abby's airtime unchanged)"
   ]
  },
  {
   "cell_type": "markdown",
   "id": "26b928a2",
   "metadata": {},
   "source": [
    "**Key Rules**\n",
    "\n",
    "1. __init__ always takes self as first parameter\n",
    "2. All methods take self as first parameter\n",
    "3. Never pass self manually when calling methods\n",
    "4. Use self inside methods to access object's attributes\n",
    "5. self refers to the specific object being used"
   ]
  },
  {
   "cell_type": "markdown",
   "id": "bed43950",
   "metadata": {},
   "source": [
    "### Attributes\n",
    "\n",
    "\n",
    "**What are Attributes?**\n",
    "Attributes are the characteristics, properties, or data that describe an object. They answer the question \"What does this object look like?\" or \"What information does this object store?\"\n",
    "\n",
    "**Real-World Analogy**\n",
    "\n",
    "- Think of a Nigerian National ID card\n",
    "\n",
    "    - me: \"Adebayo Tosin\"\n",
    "    - Age: 28\n",
    "    - State of Origin: \"Lagos\"\n",
    "    - LGA: \"Ikeja\"\n",
    "    - Occupation: \"Software Developer\"\n",
    "\n",
    "- These are all attributes - they describe WHO the person is, not what they can DO."
   ]
  },
  {
   "cell_type": "code",
   "execution_count": null,
   "id": "32c6c6a4",
   "metadata": {},
   "outputs": [],
   "source": [
    "# Defining Attributes of a student\n",
    "class Student:\n",
    "    def __init__(self, name, course, level, state_of_origin):\n",
    "        self.name = name\n",
    "        self.course = course\n",
    "        self.level = level\n",
    "        self.state_of_origin = state_of_originself.cgpa = 0.0"
   ]
  }
 ],
 "metadata": {
  "kernelspec": {
   "display_name": "Python 3",
   "language": "python",
   "name": "python3"
  },
  "language_info": {
   "codemirror_mode": {
    "name": "ipython",
    "version": 3
   },
   "file_extension": ".py",
   "mimetype": "text/x-python",
   "name": "python",
   "nbconvert_exporter": "python",
   "pygments_lexer": "ipython3",
   "version": "3.13.7"
  }
 },
 "nbformat": 4,
 "nbformat_minor": 5
}
