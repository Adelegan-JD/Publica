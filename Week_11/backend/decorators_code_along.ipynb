{
 "cells": [
  {
   "cell_type": "markdown",
   "id": "60475e5e",
   "metadata": {},
   "source": [
    "### Decorators"
   ]
  },
  {
   "cell_type": "markdown",
   "id": "58e761b0",
   "metadata": {},
   "source": [
    "**What Are Decorators?**\n",
    "A decorator is a way to modify or enhance a function without changing its original code. Think of it as \"wrapping\" extra functionality around an existing function."
   ]
  },
  {
   "cell_type": "markdown",
   "id": "14968050",
   "metadata": {},
   "source": [
    "**Real-World Analogy**\n",
    "- Imagine you have a basic white shirt.\n",
    "\n",
    "   - Original shirt: Plain white shirt (your original function)\n",
    "   - Adding accessories: Tie, blazer, wristwatch, shoes (decorators)\n",
    "   - Final look: Professional outfit (enhanced function)\n",
    "\n",
    "- The shirt is still the same, but the accessories transform how it looks and functions.\n",
    "\n",
    "**Another Analogy**\n",
    " - Lagos Street Food\n",
    "\n",
    "    - Basic rice: Plain white rice (original function)\n",
    "    - Adding extras: Stew, plantain, meat, salad (decorators)\n",
    "    - Final meal: Complete Nigerian rice meal (enhanced function)"
   ]
  },
  {
   "cell_type": "markdown",
   "id": "148569c4",
   "metadata": {},
   "source": [
    "**Let's define something that illustrates a decorator**\n",
    " - Understanding Functions as Objects: In Python, functions are objects i.e., they can be passed around.\n",
    "\n",
    " - Below is a function adding its own functionality to another function.\n",
    " - It illustrates that a function can be added to another another function, just to gain the benefit of that function"
   ]
  },
  {
   "cell_type": "code",
   "execution_count": 1,
   "id": "60c32f94",
   "metadata": {},
   "outputs": [
    {
     "name": "stdout",
     "output_type": "stream",
     "text": [
      "Welcome to our shop!\n",
      "Shopkeeper says: Welcome to our shop!\n"
     ]
    }
   ],
   "source": [
    "def greet_customer():\n",
    "    return 'Welcome to our shop!'\n",
    "\n",
    "# You can assign functions to variables\n",
    "my_greeting = greet_customer\n",
    "print(my_greeting())        # Welcome to our shop\n",
    "\n",
    "# You can pass functions as arguments to other functions\n",
    "def use_greeting(greeting_func):\n",
    "    return f'Shopkeeper says: {greeting_func()}'\n",
    "\n",
    "print(use_greeting(greet_customer))"
   ]
  },
  {
   "cell_type": "markdown",
   "id": "2f49aa7e",
   "metadata": {},
   "source": [
    "**Creating my first decorator**"
   ]
  },
  {
   "cell_type": "code",
   "execution_count": 2,
   "id": "16744d5d",
   "metadata": {},
   "outputs": [],
   "source": [
    "def add_nigerian_politeness(original_function):\n",
    "    def wrapper():\n",
    "        result = original_function()\n",
    "        return f'Good morning ooo! {result} How is family?'\n",
    "    return wrapper\n",
    "# You can use decorators to modify function behavior\n",
    "def basic_greeting():\n",
    "    return 'Hello!'"
   ]
  },
  {
   "cell_type": "code",
   "execution_count": 3,
   "id": "584b37d7",
   "metadata": {},
   "outputs": [
    {
     "name": "stdout",
     "output_type": "stream",
     "text": [
      "Good morning ooo! Hello! How is family?\n"
     ]
    }
   ],
   "source": [
    "# Apply the decorator manually\n",
    "polite_greeting = add_nigerian_politeness(basic_greeting)\n",
    "print(polite_greeting())"
   ]
  },
  {
   "cell_type": "code",
   "execution_count": 4,
   "id": "f0b660be",
   "metadata": {},
   "outputs": [
    {
     "name": "stdout",
     "output_type": "stream",
     "text": [
      "Good morning ooo! Welcome to my provision store. How is family?\n"
     ]
    }
   ],
   "source": [
    "# Using the @ symbol\n",
    "@add_nigerian_politeness\n",
    "def shop_greeting():\n",
    "    return f'Welcome to my provision store.'\n",
    "\n",
    "print(shop_greeting())"
   ]
  },
  {
   "cell_type": "markdown",
   "id": "316135b4",
   "metadata": {},
   "source": [
    "- We created a decorator function that takes another function as input\n",
    "- Inside the decorator, we defined a wrapper function that adds extra behavior\n",
    "- The wrapper calls the original function and enhances its result\n",
    "- We return the wrapper function\n",
    "- The @ symbol is just a shortcut for applying the decorator"
   ]
  },
  {
   "cell_type": "markdown",
   "id": "85e1b783",
   "metadata": {},
   "source": [
    "_more example_2\n"
   ]
  },
  {
   "cell_type": "code",
   "execution_count": 5,
   "id": "f2926fe8",
   "metadata": {},
   "outputs": [],
   "source": [
    " # This comes with arguments\n",
    "# Sometimes you want to pass information to your decorators -->"
   ]
  },
  {
   "cell_type": "code",
   "execution_count": 6,
   "id": "64d6b910",
   "metadata": {},
   "outputs": [],
   "source": [
    "def add_nigerian_time_greeting(time_of_day):\n",
    "    \"\"\"Decorator that adds appropriate Nigerian greeting based on time\"\"\"\n",
    "    def decorator(original_function):\n",
    "        def wrapper():\n",
    "            if time_of_day == 'morning':\n",
    "                greeting = 'Good morning ooo!'\n",
    "            elif time_of_day == 'afternoon':\n",
    "                greeting = 'Good afternoon!'\n",
    "            elif time_of_day == 'evening':\n",
    "                greeting = 'Good evening ooo!'\n",
    "            else:\n",
    "                greeting = 'How far na!'\n",
    "\n",
    "            result = original_function()\n",
    "            return f'{greeting} {result}'\n",
    "        return wrapper\n",
    "    return decorator"
   ]
  },
  {
   "cell_type": "code",
   "execution_count": 7,
   "id": "2932b995",
   "metadata": {},
   "outputs": [],
   "source": [
    "# Using the decorator with different times\n",
    "@ add_nigerian_time_greeting('morning')\n",
    "def market_greeting():\n",
    "    return f'Welcome to our shop! How can we '\n"
   ]
  },
  {
   "cell_type": "code",
   "execution_count": 8,
   "id": "2b288d21",
   "metadata": {},
   "outputs": [],
   "source": [
    "@ add_nigerian_time_greeting('evening')\n",
    "def restaurant_greeting():\n",
    "    return f'Welcome to our restaurant. What would you like to eat?'"
   ]
  },
  {
   "cell_type": "code",
   "execution_count": 9,
   "id": "23496b5d",
   "metadata": {},
   "outputs": [
    {
     "name": "stdout",
     "output_type": "stream",
     "text": [
      "Good morning ooo! Welcome to our shop! How can we \n",
      "Good evening ooo! Welcome to our restaurant. What would you like to eat?\n"
     ]
    }
   ],
   "source": [
    "print(market_greeting())        # Good morning ooo! Welcome to our shop. How can we help you today?\n",
    "print(restaurant_greeting())    # Good evening ooo! Welcome to our restaurant. What would you like to eat"
   ]
  },
  {
   "cell_type": "markdown",
   "id": "3c07f259",
   "metadata": {},
   "source": [
    "_more example_3\n"
   ]
  },
  {
   "cell_type": "code",
   "execution_count": 16,
   "id": "ac01d57c",
   "metadata": {},
   "outputs": [],
   "source": [
    "def naira_formatter(currency_symbol = \"₦\"):  #this creates a function with the parameter\n",
    "    '''Decorator to format prices in Nigerian Naira'''\n",
    "    def decorator(price_function):       # this creates another function which also hass its own prameters to act as a decorator\n",
    "        def wrapper(*args, **kwargs):   # the args and kwargs indicate that any length of positional and keyword arguments can be passed\n",
    "            price = price_function(*args, **kwargs)\n",
    "            return f'{currency_symbol}{price:,}'\n",
    "        return wrapper\n",
    "    return decorator\n"
   ]
  },
  {
   "cell_type": "code",
   "execution_count": 17,
   "id": "ff052469",
   "metadata": {},
   "outputs": [],
   "source": [
    "@naira_formatter('₦')\n",
    "def rice_price():\n",
    "    return 2500"
   ]
  },
  {
   "cell_type": "code",
   "execution_count": 18,
   "id": "3bebaa40",
   "metadata": {},
   "outputs": [],
   "source": [
    "@naira_formatter('₦')\n",
    "def calculate_transport_fare(distance_km):\n",
    "    base_fare = 200\n",
    "    per_km = 50\n",
    "    return base_fare + (distance_km * per_km)"
   ]
  },
  {
   "cell_type": "code",
   "execution_count": 20,
   "id": "a83f96b3",
   "metadata": {},
   "outputs": [
    {
     "name": "stdout",
     "output_type": "stream",
     "text": [
      "₦2,500\n",
      "The transport fare is currently ₦450\n"
     ]
    }
   ],
   "source": [
    "print(rice_price())\n",
    "print(f'The transport fare is currently {calculate_transport_fare(5)}')"
   ]
  },
  {
   "cell_type": "markdown",
   "id": "f4251a89",
   "metadata": {},
   "source": [
    "_more example_4"
   ]
  },
  {
   "cell_type": "code",
   "execution_count": 21,
   "id": "2cff2f2e",
   "metadata": {},
   "outputs": [],
   "source": [
    "# Shop Transaction Logger"
   ]
  }
 ],
 "metadata": {
  "kernelspec": {
   "display_name": "Python 3",
   "language": "python",
   "name": "python3"
  },
  "language_info": {
   "codemirror_mode": {
    "name": "ipython",
    "version": 3
   },
   "file_extension": ".py",
   "mimetype": "text/x-python",
   "name": "python",
   "nbconvert_exporter": "python",
   "pygments_lexer": "ipython3",
   "version": "3.13.7"
  }
 },
 "nbformat": 4,
 "nbformat_minor": 5
}
