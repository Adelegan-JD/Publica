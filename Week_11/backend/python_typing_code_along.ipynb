{
 "cells": [
  {
   "cell_type": "markdown",
   "id": "6ef97a4f",
   "metadata": {},
   "source": [
    "Typing deals with data types like int, float, bool, str -these are the basic or primitive types.\n",
    "and also data structures like liast, tuple, dict, set - these are te collection types.\n",
    "\n",
    "\n",
    "Now, typing is a system that lets you explicitly state what types( or combination of types) youe variables, function arguments and return values should be.\n",
    "\n",
    "But you need to know that typing extends a bit more. it is more about describing the shape if your data and how it flows through your program."
   ]
  },
  {
   "cell_type": "code",
   "execution_count": null,
   "id": "11666cd4",
   "metadata": {},
   "outputs": [
    {
     "ename": "",
     "evalue": "",
     "output_type": "error",
     "traceback": [
      "\u001b[1;31mFailed to start the Kernel. \n",
      "\u001b[1;31mUnable to start Kernel 'benv (Python 3.13.7)' due to a timeout waiting for the ports to get used. \n",
      "\u001b[1;31mView Jupyter <a href='command:jupyter.viewOutput'>log</a> for further details."
     ]
    }
   ],
   "source": [
    "# example\n",
    "\n",
    "def get_fellows_names(fellow: list[str]) -> list[str]:\n",
    "    return fellow\n"
   ]
  },
  {
   "cell_type": "markdown",
   "id": "d362c262",
   "metadata": {},
   "source": [
    "`(fellow: list[str])` - type of input the function should accept.\n",
    "\n",
    "`-> list[str]` - type of output you should expect."
   ]
  },
  {
   "cell_type": "markdown",
   "id": "5c243385",
   "metadata": {},
   "source": [
    "The function is saying that fellow must be a list, not just any list by a list of strings.\n",
    "\n",
    "Here, we would understand that  typing helps to add precision and intent. You are not just saying  that this is a list - you are saying, this is a list of students names.\n",
    "\n",
    "Think of data types as ingredients(e.g, int, str, list)\n",
    "and typing as the recipe - it tells us how those ingredients should fit togeter and flow through our program. \n",
    "\n",
    "So in summary, typing is about using data types and data structure to define rules nad expectations for our program."
   ]
  },
  {
   "cell_type": "markdown",
   "id": "4d7bb171",
   "metadata": {},
   "source": [
    "`names: list[str] = [\"Esther\", \"Peter\", \"David\"]`\n",
    "- Meaning that every value in the list should be strings\n",
    "\n",
    "so the function will not accept this\n",
    "\n",
    "`names = [\"Esther\", 22, True]`\n",
    "The reasom is because it mixes different types(str, int, bool)\n",
    "\n"
   ]
  },
  {
   "cell_type": "code",
   "execution_count": null,
   "id": "1e1e490f",
   "metadata": {},
   "outputs": [],
   "source": [
    "def get_average(name: str, scores: list[float]) -> float:\n",
    "    average_score = sum(scores)/len(scores)\n",
    "    print(f'{name}\\'s average score is {average_score}')\n",
    "    return average_score"
   ]
  },
  {
   "cell_type": "markdown",
   "id": "ba2fe646",
   "metadata": {},
   "source": [
    "`name: str` - The parameter `name` must be a string\n",
    "\n",
    "`scores: list[int]` - The argument `scores` must be a list containing integers.\n",
    "\n",
    "-> float - The function must return a floating point number\n"
   ]
  },
  {
   "cell_type": "code",
   "execution_count": null,
   "id": "d010fa76",
   "metadata": {},
   "outputs": [],
   "source": [
    "def greet(name: str) -> None:\n",
    "    print(f'Hello, {name}')"
   ]
  },
  {
   "cell_type": "markdown",
   "id": "33ec1f0f",
   "metadata": {},
   "source": [
    "This function `prints` something, but it doesn’t return anything with a return statement.\n",
    "So its “return type” is `None`."
   ]
  },
  {
   "cell_type": "markdown",
   "id": "78401439",
   "metadata": {},
   "source": [
    "In Python, when a function has no `return` statement, or when it ends without returning a value,\n",
    "Python automatically returns `None` under the hood."
   ]
  },
  {
   "cell_type": "code",
   "execution_count": null,
   "id": "f66576b6",
   "metadata": {},
   "outputs": [],
   "source": [
    "def add(a: int, b: int) -> int:\n",
    "    return a + b"
   ]
  },
  {
   "cell_type": "code",
   "execution_count": null,
   "id": "e1294efb",
   "metadata": {},
   "outputs": [],
   "source": [
    "add(1.0, 2.0)"
   ]
  },
  {
   "cell_type": "markdown",
   "id": "57ab8591",
   "metadata": {},
   "source": [
    "**Typing module**"
   ]
  },
  {
   "cell_type": "markdown",
   "id": "8a087440",
   "metadata": {},
   "source": [
    "The typing module is part of Python’s standard library.\n",
    "\n",
    "It provides tools called **type hints** that let you describe what _kind of data_ your variables, functions, and classes work with especially when things get more complicated."
   ]
  },
  {
   "cell_type": "markdown",
   "id": "ca9817c5",
   "metadata": {},
   "source": [
    "**How to use typing**"
   ]
  },
  {
   "cell_type": "code",
   "execution_count": null,
   "id": "bede8948",
   "metadata": {},
   "outputs": [],
   "source": [
    "from typing import List, Dict, Union, Optional"
   ]
  },
  {
   "cell_type": "markdown",
   "id": "104529dd",
   "metadata": {},
   "source": [
    "You don’t need it for basic types like`int`, `float`, `str`, `list`,\n",
    "but you do need it when types start combining, nesting, or being flexible."
   ]
  },
  {
   "cell_type": "markdown",
   "id": "7c718f5c",
   "metadata": {},
   "source": [
    "**Why it Exists**"
   ]
  },
  {
   "cell_type": "markdown",
   "id": "303b38e2",
   "metadata": {},
   "source": [
    "Lets say you want to describe\n",
    "- a list that contains strings or integers\n",
    "- a dictionary where keys are strings and values are floats.\n",
    "- a function that sometimes returns a number, sometimes returns nothing.\n",
    "All of these can't be described clearly with basic hints alone. This is where the  **typing** module comes in. It gives you richer language for describing data."
   ]
  },
  {
   "cell_type": "markdown",
   "id": "512fa792",
   "metadata": {},
   "source": [
    "**Common Tools From Typing**"
   ]
  },
  {
   "cell_type": "markdown",
   "id": "5e910fd0",
   "metadata": {},
   "source": [
    "| Typing tool        | Used for                                          | Example                                      |\n",
    "| ------------------ | ------------------------------------------------- | -------------------------------------------- |\n",
    "| `List[T]`          | A list containing elements of type `T`            | `List[int]`, `List[str]`                     |\n",
    "| `Dict[K, V]`       | A dictionary with key type `K` and value type `V` | `Dict[str, int]`                             |\n",
    "| `Union[T1, T2]`    | A value that can be **either** type               | `Union[int, str]`                            |\n",
    "| `Optional[T]`      | A value that can be `T` **or** `None`             | `Optional[int]` (same as `Union[int, None]`) |\n",
    "| `Tuple[T1, T2, …]` | A fixed-length tuple of specified types           | `Tuple[str, int]`                            |\n",
    "| `Any`              | Anything (use when type can’t be known)           | `Any`                                        |\n"
   ]
  },
  {
   "cell_type": "code",
   "execution_count": null,
   "id": "cc305121",
   "metadata": {},
   "outputs": [],
   "source": [
    "# example\n",
    "from typing import List, Dict, Union, Optional\n",
    "\n",
    "def process_scores(\n",
    "        scores : List[int],\n",
    "        info : Dict[str,Union[int, float]],\n",
    "        comment : Optional[str] = None) -> None:\n",
    "    print(f'Scores: {scores}')\n",
    "    print(f'Info: {info}')\n",
    "    if comment:\n",
    "        print('Comment:', comment)\n"
   ]
  },
  {
   "cell_type": "markdown",
   "id": "481a1471",
   "metadata": {},
   "source": [
    "This tells python that;\n",
    "- `scores` - is a list of integers\n",
    "- `info` - is a dictionary with string keys and values that can be `int` or `str`\n",
    "- `comment` is a string or `None`\n",
    "- `-> None` doesn't return anything"
   ]
  },
  {
   "cell_type": "markdown",
   "id": "540d60d1",
   "metadata": {},
   "source": [
    "**Union**"
   ]
  },
  {
   "cell_type": "markdown",
   "id": "6ca71680",
   "metadata": {},
   "source": [
    "Union is used when a variable or argument can hold more than one possible type. \n",
    "Lets say you have a funtion that accepts either an integer or a string as an ID"
   ]
  },
  {
   "cell_type": "code",
   "execution_count": null,
   "id": "a9d3fcba",
   "metadata": {},
   "outputs": [],
   "source": [
    "from typing import Union\n",
    "def get_fellow_id(id:Union[int, str]) -> str:\n",
    "    return f'fellow ID: {id}'"
   ]
  },
  {
   "cell_type": "code",
   "execution_count": null,
   "id": "8d6e29d7",
   "metadata": {},
   "outputs": [],
   "source": [
    "print(get_fellow_id(42))        # this recognizes the argument as an integer\n",
    "print(get_fellow_id('78'))      # this recognizes the argument as a string"
   ]
  },
  {
   "cell_type": "code",
   "execution_count": null,
   "id": "09ec66de",
   "metadata": {},
   "outputs": [],
   "source": [
    "# trying with a float\n",
    "print(get_fellow_id(82.6))  ## 0ur IDE will flag it because it is not a string, i.e. it will raise a type checker warning "
   ]
  },
  {
   "cell_type": "markdown",
   "id": "bbbad7b9",
   "metadata": {},
   "source": [
    "if you like ... you can decide to chain two or more types\n",
    "`Union[int, float, str]`\n",
    "\n",
    "But you should keep it simple and not complicate matters."
   ]
  },
  {
   "cell_type": "code",
   "execution_count": null,
   "id": "d11ab636",
   "metadata": {},
   "outputs": [],
   "source": [
    "# Instead of using Union, I can use a pipe \"|\" (- hold shift + backslash ) to get it\n",
    "\n",
    "def fet_fellow_id(id: int | str) -> str:\n",
    "    return f'fellow ID:{id}'\n",
    "\n",
    "# The code written above is the same as\n",
    "\n",
    "def get_fellow_id(id:  Union[int, str]) -> str:\n",
    "    return f'fellow ID: {id}'"
   ]
  },
  {
   "cell_type": "code",
   "execution_count": null,
   "id": "cb202958",
   "metadata": {},
   "outputs": [],
   "source": [
    "from typing import Union\n",
    "\n",
    "def format_address(house_number: Union[int, str], street: str) -> str:\n",
    "    return f'{house_number} {street}'"
   ]
  },
  {
   "cell_type": "code",
   "execution_count": null,
   "id": "1e4810ab",
   "metadata": {},
   "outputs": [],
   "source": [
    "print(format_address(23, 'Ajegunle Street'))\n",
    "print(format_address(28, 'Ajelogo Street'))"
   ]
  },
  {
   "cell_type": "markdown",
   "id": "00972a25",
   "metadata": {},
   "source": [
    "**Optional**"
   ]
  },
  {
   "cell_type": "markdown",
   "id": "85eec797",
   "metadata": {},
   "source": [
    "Sometimes you don’t just have “this or that”, \n",
    "you have “this or nothing”.\n",
    "\n",
    "This is  where `Optional` comes in."
   ]
  },
  {
   "cell_type": "markdown",
   "id": "d112aa46",
   "metadata": {},
   "source": [
    "Optional is just a shorthand for a very common Union case:\n",
    "\n",
    "```\n",
    "Optional[X]  ==  Union[X, None]\n",
    "\n",
    "```\n",
    "\n",
    "```\n",
    "optional[str] # This means the value can string or \"None\"(nothing)\n",
    "```\n"
   ]
  },
  {
   "cell_type": "markdown",
   "id": "cbf756ad",
   "metadata": {},
   "source": [
    "Now, in a real project, it is common to have parameters or fields that are not always provided.\n",
    "\n",
    "for example, \n",
    "- A user might have a middle name or might not\n",
    "- An API request might include a comment, or might leave it blank\n",
    "\n",
    "This is what optional expresses\n"
   ]
  },
  {
   "cell_type": "code",
   "execution_count": null,
   "id": "b5c30ae5",
   "metadata": {},
   "outputs": [],
   "source": [
    "from typing import Optional\n",
    "\n",
    "def greet(first_name: str, last_name:Optional[str] = None) -> None:\n",
    "    if last_name:\n",
    "        print(f'Hello, {first_name} {last_name}')\n",
    "    else:\n",
    "        print(f'Hello, {first_name}')"
   ]
  },
  {
   "cell_type": "code",
   "execution_count": null,
   "id": "d073b3c2",
   "metadata": {},
   "outputs": [],
   "source": [
    "greet('Nicodemus', 'Sandalwood')\n",
    "greet('Hallelujah')"
   ]
  },
  {
   "cell_type": "markdown",
   "id": "83c38620",
   "metadata": {},
   "source": [
    "The last_name parameter can be a string or None.\n",
    "\n",
    "By default, we set it to None if the user doesn’t supply one."
   ]
  },
  {
   "cell_type": "code",
   "execution_count": null,
   "id": "45d63c17",
   "metadata": {},
   "outputs": [],
   "source": [
    "def find_user(username: str) -> Optional[dict]:\n",
    "    if username == 'admin':\n",
    "        return {'username': 'admin', 'role': 'superuser'}\n",
    "    return None"
   ]
  },
  {
   "cell_type": "markdown",
   "id": "f12572b1",
   "metadata": {},
   "source": [
    "The function returns a dictionary if the user exists.\n",
    "\n",
    "If not, it returns None.\n",
    "\n",
    "That’s exactly what Optional describes."
   ]
  },
  {
   "cell_type": "code",
   "execution_count": null,
   "id": "1489ee01",
   "metadata": {},
   "outputs": [],
   "source": [
    "find_user('admin')"
   ]
  },
  {
   "cell_type": "markdown",
   "id": "e7cbcf58",
   "metadata": {},
   "source": [
    "**typed collections**\n",
    "\n",
    "- Starting with `dict` and `tuple`. These are quite important because wen we get to Pydantic models and FastAPI, we will use them to describe structured data."
   ]
  },
  {
   "cell_type": "markdown",
   "id": "9811148f",
   "metadata": {},
   "source": [
    "**`Dict` - typed dictionary**"
   ]
  },
  {
   "cell_type": "markdown",
   "id": "70130e8a",
   "metadata": {},
   "source": [
    "`Dict[K,V]` describes a dictionary where\n",
    "- `k` - type of the keys\n",
    "- `V` - type of the values\n",
    "\n",
    "- This is takes the _**kwargs_ arguments"
   ]
  },
  {
   "cell_type": "code",
   "execution_count": null,
   "id": "e6c46a21",
   "metadata": {},
   "outputs": [],
   "source": [
    "from typing import Dict\n",
    "\n",
    "fellow_scores: Dict[str, int] = {\n",
    "    'David': '89',          # '89' is flagged because I used it as a string, not an integer\n",
    "    'Michael': 98\n",
    "}"
   ]
  },
  {
   "cell_type": "markdown",
   "id": "46b35504",
   "metadata": {},
   "source": [
    "This means that every key is a string and every value is an integer.\n",
    "The IDE will flag it if you decide to add a string as a value\n"
   ]
  },
  {
   "cell_type": "markdown",
   "id": "a441c3b6",
   "metadata": {},
   "source": [
    "**`Tuple` Typed Tuples**"
   ]
  },
  {
   "cell_type": "markdown",
   "id": "675bb784",
   "metadata": {},
   "source": [
    "A tuple is like a small fixed-sized list, but we can define exactly what type each position shuld have."
   ]
  },
  {
   "cell_type": "code",
   "execution_count": null,
   "id": "74d1ca37",
   "metadata": {},
   "outputs": [],
   "source": [
    "from typing import Tuple\n",
    "fellow: Tuple[str, int, str] = ('Perpetual', 95, 'AI Engineering')\n",
    "print(fellow)"
   ]
  },
  {
   "cell_type": "code",
   "execution_count": null,
   "id": "0c6147a9",
   "metadata": {},
   "outputs": [],
   "source": [
    "from typing import Tuple\n",
    "fellow2: Tuple[str, int, str] = ('Adeyemi', 78.9, 'AI Engineering')\n",
    "print(fellow2)"
   ]
  },
  {
   "cell_type": "markdown",
   "id": "d39d9c4c",
   "metadata": {},
   "source": [
    "This means that position 0 takes on string, 1 takes on int while 2 takes on strings also.And it will be flagged if interchanged."
   ]
  },
  {
   "cell_type": "code",
   "execution_count": null,
   "id": "445d0243",
   "metadata": {},
   "outputs": [],
   "source": [
    "def ai_fellow(fellow: Tuple[str, int]) -> str:\n",
    "    name, score = fellow\n",
    "    return f'{name} scored {score} marks'"
   ]
  },
  {
   "cell_type": "markdown",
   "id": "37f94585",
   "metadata": {},
   "source": [
    "**Pydantic**"
   ]
  },
  {
   "cell_type": "markdown",
   "id": "7be25ac0",
   "metadata": {},
   "source": [
    "Pydantic like typing is used to build a structured, type-safe data models. It uses these type hints to validate,serialize, parse and structure data automatically.\n",
    "\n",
    "In simple terms, It takes messy or untrusted data like API input, JSON or form data and checks that it matches your type definitions.\n",
    "\n",
    "Now if the data type doesnt match, pydantic raises an error with a clear explanation.\n"
   ]
  },
  {
   "cell_type": "markdown",
   "id": "2fde9d37",
   "metadata": {},
   "source": [
    "**Using Pydantic**"
   ]
  },
  {
   "cell_type": "markdown",
   "id": "45d9c6e4",
   "metadata": {},
   "source": [
    "You can `pip install pydantic`but if you have already installed `fastapi` that means you have it already."
   ]
  },
  {
   "cell_type": "code",
   "execution_count": null,
   "id": "a78c38f3",
   "metadata": {},
   "outputs": [],
   "source": [
    "%%capture\n",
    "%pip install pydantic\n",
    "\n"
   ]
  },
  {
   "cell_type": "code",
   "execution_count": null,
   "id": "925cbac8",
   "metadata": {},
   "outputs": [],
   "source": [
    "# importing pydantic\n",
    "from pydantic import BaseModel"
   ]
  },
  {
   "cell_type": "markdown",
   "id": "4ac26dc1",
   "metadata": {},
   "source": [
    "`BaseModel` - This is the core class in pydantic that all our models inherit from(do you still remember inheritance?)\n",
    "\n",
    "- It gives your class the superpowers that makes pydantic useful. It handles core concept like;\n",
    "- data validation\n",
    "- autmatic type conversion\n",
    "- error reporting\n",
    "- serialization/ deserialization\n",
    "- schema generation - this one is heavilty used in FastAPI"
   ]
  },
  {
   "cell_type": "code",
   "execution_count": null,
   "id": "4558b0ef",
   "metadata": {},
   "outputs": [],
   "source": [
    "# Lets create a pydantic data model\n",
    "class Fellow(BaseModel):\n",
    "    name : str\n",
    "    score : int\n",
    "    track : str"
   ]
  },
  {
   "cell_type": "markdown",
   "id": "21d8e75f",
   "metadata": {},
   "source": [
    "This data model knows\n",
    "- What fields it has (`name`,`score`,`track`)\n",
    "- What types those field should be (`str`,`int`,`str`)\n",
    "- how to check and clean input data\n",
    "- how to output itsself as clean, structured data(`dict`,`json`, etc)"
   ]
  },
  {
   "cell_type": "markdown",
   "id": "98ba4ed6",
   "metadata": {},
   "source": [
    "**What is `BaseModel` Capable of**"
   ]
  },
  {
   "cell_type": "code",
   "execution_count": null,
   "id": "de8a2f53",
   "metadata": {},
   "outputs": [],
   "source": [
    "# 1. Validation- It automatically validates data passed into it\n",
    "\n",
    "Fellow(name= 'Ade', score= 78, track= 'AI Engineering')     # This will work successfully\n"
   ]
  },
  {
   "cell_type": "code",
   "execution_count": null,
   "id": "100b96a0",
   "metadata": {},
   "outputs": [],
   "source": [
    "Fellow(name=  45, score = 65, track = 'AI Engineering')  # This will raise an error because name is not a string  "
   ]
  },
  {
   "cell_type": "code",
   "execution_count": null,
   "id": "528f0f5d",
   "metadata": {},
   "outputs": [],
   "source": [
    "# Parsing and Type Conversion - It automatically converts compatible types \n",
    "# It reads and interprets data\n",
    "\n",
    "p = Fellow(name='Bayo', score = '97', track = 'AI Engineering')\n",
    "print(type(p))\n",
    "print(type(p.score))\n",
    "\n"
   ]
  },
  {
   "cell_type": "markdown",
   "id": "4b0848df",
   "metadata": {},
   "source": [
    "This is telling us that the compatible class is int and  not string as we have define above."
   ]
  },
  {
   "cell_type": "code",
   "execution_count": null,
   "id": "9190dab5",
   "metadata": {},
   "outputs": [],
   "source": [
    "# an incoming data\n",
    "data = {'name': 'Blessing', 'score': '100', 'track': 'AI Engineering'}\n",
    "\n",
    "# pydantic will parse it like this\n",
    "fellow = Fellow(**data)\n",
    "\n",
    "print(fellow)\n",
    "print(type(fellow.score))"
   ]
  },
  {
   "cell_type": "markdown",
   "id": "cebb7e28",
   "metadata": {},
   "source": [
    "Here, Pydantic **parsed** \"100\" (a string) into 100 (an int).\n",
    "It “understood” the data and converted it into a proper Python model."
   ]
  },
  {
   "cell_type": "code",
   "execution_count": null,
   "id": "3d575ead",
   "metadata": {},
   "outputs": [],
   "source": [
    "# Serialization: It automatically converts data to JSON or dictionary (converts to a format that can be stored or sent)\n",
    "# It's more like packaging a data for output\n",
    "\n",
    "print(p.json())\n",
    "print(p.model_dump_json())      #This is the new method. Does the same work as above"
   ]
  },
  {
   "cell_type": "code",
   "execution_count": null,
   "id": "b0ac111c",
   "metadata": {},
   "outputs": [],
   "source": [
    "print(p.dict())     # This function is also deprecated. \n",
    "print(p.model_dump())   # This is the new method to convert to dictionary"
   ]
  },
  {
   "cell_type": "code",
   "execution_count": null,
   "id": "57f8ae7e",
   "metadata": {},
   "outputs": [],
   "source": [
    "# 4. Nesting: Models can be nested to create complex data structures\n",
    "\n",
    "\n",
    "class Address(BaseModel):\n",
    "    street: str\n",
    "    city: str\n",
    "    state: str\n",
    "    country: str\n",
    "\n",
    "class Fellow(BaseModel):\n",
    "    name: str\n",
    "    score: int\n",
    "    track: str\n",
    "    address: Address\n",
    "\n",
    "# Pydantic will validate this automatically"
   ]
  },
  {
   "cell_type": "markdown",
   "id": "9bf73bc5",
   "metadata": {},
   "source": [
    "Here, Fellow contains an Address —\n",
    "so instead of just primitive types (str, int),\n",
    "you’re using another Pydantic model (Address) as a field type."
   ]
  },
  {
   "cell_type": "code",
   "execution_count": null,
   "id": "aa656c99",
   "metadata": {},
   "outputs": [],
   "source": [
    "# let's pass this data\n",
    "data = {\n",
    "    'name': 'Adesola',\n",
    "    'score': 98,\n",
    "    'track': 'AI Engineering', \n",
    "\n",
    "    'address': {\n",
    "        'street': 'Alakuko Street',\n",
    "        'city': 'Ijaiye',\n",
    "        'state': 'Lagos',\n",
    "        'country': 'Nigeria'\n",
    "    }\n",
    "}\n",
    "\n",
    "# Pydantic will parse it like this\n",
    "fellow = Fellow(**data)\n",
    "\n",
    "print(fellow)"
   ]
  },
  {
   "cell_type": "markdown",
   "id": "3688d409",
   "metadata": {},
   "source": [
    "**What is happening behind the scene**\n",
    "- Pydantic sees Fellow's field address to be of type Address.\n",
    "\n",
    "- It looks at the dictionary under \"address\".\n",
    "\n",
    "- It automatically creates an Address object inside Fellow.\n",
    "\n",
    "- It validates that street and city are both strings.\n",
    "\n",
    "So, you get deep validation — Pydantic checks every layer of your data."
   ]
  },
  {
   "cell_type": "code",
   "execution_count": null,
   "id": "9a69b1e7",
   "metadata": {},
   "outputs": [],
   "source": [
    "# To easily access inner fields when needed\n",
    "\n",
    "print(fellow.address.street)"
   ]
  },
  {
   "cell_type": "code",
   "execution_count": null,
   "id": "62c2b5e3",
   "metadata": {},
   "outputs": [],
   "source": [
    "print(fellow.model_dump())\n"
   ]
  },
  {
   "cell_type": "code",
   "execution_count": null,
   "id": "cce0355b",
   "metadata": {},
   "outputs": [],
   "source": [
    "print(fellow.model_dump_json())"
   ]
  },
  {
   "cell_type": "markdown",
   "id": "7e0692e6",
   "metadata": {},
   "source": [
    "**A list of Nested Models**: This sounds like you are using two addresses"
   ]
  },
  {
   "cell_type": "code",
   "execution_count": null,
   "id": "85b9b5ef",
   "metadata": {},
   "outputs": [],
   "source": [
    "# So we can have something like this ... for a list of addresses\n",
    "\n",
    "from typing import List\n",
    "from pydantic import BaseModel\n",
    "\n",
    "class Fellow(BaseModel):\n",
    "    name: str\n",
    "    score: int\n",
    "    track: str\n",
    "    addresses: List[Address]   # This is a list of addresses"
   ]
  },
  {
   "cell_type": "markdown",
   "id": "6ab499d0",
   "metadata": {},
   "source": [
    "Here, addresses isn’t just one Address —\n",
    "it’s a list (List[Address]), meaning the person can have multiple addresses."
   ]
  },
  {
   "cell_type": "code",
   "execution_count": null,
   "id": "e515ae70",
   "metadata": {},
   "outputs": [],
   "source": [
    "data2 = {\n",
    "    'name': 'Olusola',\n",
    "    'score': 80,\n",
    "    'track': 'AI Engineering', \n",
    "    'addresses': [\n",
    "        {'street': 'Idiroko Road', 'city': 'Sango', 'state': 'Ogun', 'country': 'Nigeria'},\n",
    "        {'street': 'Bode Thomas', 'city': 'Palmgrove', 'state': 'Lagos', 'country': 'Nigeria'}\n",
    "    ]\n",
    "}\n",
    "\n",
    "fellow = Fellow(**data2)\n",
    "print(fellow)"
   ]
  },
  {
   "cell_type": "code",
   "execution_count": null,
   "id": "009dfe86",
   "metadata": {},
   "outputs": [],
   "source": [
    "# Accessing the nested items\n",
    "\n",
    "print(fellow.addresses[0].street)\n",
    "print(fellow.addresses[1].city)"
   ]
  },
  {
   "cell_type": "code",
   "execution_count": null,
   "id": "2778c82e",
   "metadata": {},
   "outputs": [],
   "source": [
    "# We can serialize as well\n",
    "\n",
    "print(fellow.model_dump_json())\n",
    "print('\\n')\n",
    "print(fellow.model_dump())"
   ]
  },
  {
   "cell_type": "markdown",
   "id": "5c6ecd02",
   "metadata": {},
   "source": [
    "**Understanding Validation**"
   ]
  },
  {
   "cell_type": "code",
   "execution_count": null,
   "id": "a7099a93",
   "metadata": {},
   "outputs": [],
   "source": [
    "from typing import List\n",
    "from pydantic import BaseModel\n",
    "\n",
    "class Address(BaseModel):\n",
    "    street: str\n",
    "    city: str\n",
    "\n",
    "class Fellow(BaseModel):\n",
    "    name: str\n",
    "    score: int\n",
    "    addresses: List[Address]\n",
    "\n",
    "data3 = {\n",
    "    'name': 'Michael',\n",
    "    'score': 99,\n",
    "    'addresses': [\n",
    "          {\"street\": \"13 Marose Street\", \"city\": \"Ikorodu\"},\n",
    "          {\"street\": \"42 Babatunde Avenue\", \"city\": \"Abiola Way\"} \n",
    "    ]\n",
    "}\n",
    "\n",
    "fellow = Fellow(**data3)\n",
    "print(fellow)\n"
   ]
  },
  {
   "cell_type": "markdown",
   "id": "73220c3f",
   "metadata": {},
   "source": [
    "This works fine, but right now, any value for score is accepted,\n",
    "even something unrealistic like -79 score.\n",
    "\n",
    "Let’s fix that.\n",
    "we would do that by adding a `field level validation`"
   ]
  },
  {
   "cell_type": "markdown",
   "id": "9073a316",
   "metadata": {},
   "source": [
    "Pydantic lets you add constraints directly to fields\n",
    "using the `Field` helper"
   ]
  },
  {
   "cell_type": "code",
   "execution_count": null,
   "id": "d6259223",
   "metadata": {},
   "outputs": [],
   "source": [
    "from pydantic import BaseModel, Field\n",
    "from typing import List\n",
    "\n",
    "class Address(BaseModel):\n",
    "    street: str\n",
    "    city: str\n",
    "\n",
    "class Fellow(BaseModel):\n",
    "    name: str\n",
    "    score: int= Field(..., ge=0, le=100)        # using the field\n",
    "    addresses: List[Address]"
   ]
  },
  {
   "cell_type": "code",
   "execution_count": null,
   "id": "ddd87485",
   "metadata": {},
   "outputs": [],
   "source": [
    "Fellow(name='Hassan', score = -40, addresses=[])        # This will raise an error because score is less than 0, and we have earlier validated that it should be greater than 0 and less than 100"
   ]
  },
  {
   "cell_type": "code",
   "execution_count": null,
   "id": "e070a122",
   "metadata": {},
   "outputs": [],
   "source": [
    "Fellow(name='Hassan', score= 80, addresses= [])"
   ]
  },
  {
   "cell_type": "markdown",
   "id": "1ad07f70",
   "metadata": {},
   "source": [
    "This kind of validation\n",
    "\n",
    "- prevents bad data from ever entering your system,\n",
    "\n",
    "- gives clear feedback to API clients,\n",
    "\n",
    "- and works automatically inside FastAPI (no extra code needed in your routes)."
   ]
  },
  {
   "cell_type": "markdown",
   "id": "dd0de2f3",
   "metadata": {},
   "source": [
    "**Custom Validation**\n",
    "\n",
    "\n",
    "You can also write custom validation logic using a `@validator` decorator."
   ]
  },
  {
   "cell_type": "code",
   "execution_count": null,
   "id": "72012d24",
   "metadata": {},
   "outputs": [],
   "source": [
    "from pydantic import BaseModel, Field, field_validator\n",
    "\n",
    "class Person(BaseModel):\n",
    "    name: str\n",
    "    age: int = Field(..., ge=0)\n",
    "\n",
    "    @field_validator('name')\n",
    "    def name_must_start_with_capital(cls, v):\n",
    "        if not v[0].isupper():\n",
    "            raise ValueError('Name must be start withh a capital letter')\n",
    "        return v"
   ]
  },
  {
   "cell_type": "code",
   "execution_count": null,
   "id": "bb883bc5",
   "metadata": {},
   "outputs": [],
   "source": [
    "Person(name= 'solomon', age = 20)       # This will throw an error because the name doesn't start with capital letter"
   ]
  },
  {
   "cell_type": "markdown",
   "id": "4fbea4fa",
   "metadata": {},
   "source": [
    "...Read the error message above\n",
    "\n",
    "This is the essence of Pydantic validation, `field constraints + custom validators.`"
   ]
  },
  {
   "cell_type": "code",
   "execution_count": null,
   "id": "765a5482",
   "metadata": {},
   "outputs": [],
   "source": [
    "Person(name= 'Cynthia', age = 20)"
   ]
  },
  {
   "cell_type": "markdown",
   "id": "4801587e",
   "metadata": {},
   "source": [
    "These types handle both validation and conversion — if the input is compatible, Pydantic converts it automatically"
   ]
  },
  {
   "cell_type": "markdown",
   "id": "371e3dbe",
   "metadata": {},
   "source": [
    "| Type                         | Description                               | Example                   |\n",
    "| ---------------------------- | ----------------------------------------- | ------------------------- |\n",
    "| `EmailStr`                   | Validates email address                   | `email: EmailStr`         |\n",
    "| `AnyUrl`, `HttpUrl`          | Validates URLs                            | `website: HttpUrl`        |\n",
    "| `IPv4Address`, `IPv6Address` | Validates IP addresses                    | `ip: IPv4Address`         |\n",
    "| `PaymentCardNumber`          | Validates credit card numbers             | `card: PaymentCardNumber` |\n",
    "| `UUID`                       | Validates UUIDs                           | `id: UUID`                |\n",
    "| `Decimal`                    | For exact decimal values (money, scores)  | `price: Decimal`          |\n",
    "| `FilePath`, `DirectoryPath`  | Validates existing file or directory path | `file_path: FilePath`     |\n"
   ]
  },
  {
   "cell_type": "markdown",
   "id": "9b1980f4",
   "metadata": {},
   "source": [
    "`Field()` allows you to apply numeric or string constraints to your fields."
   ]
  },
  {
   "cell_type": "markdown",
   "id": "6c4a35f9",
   "metadata": {},
   "source": [
    "| Constraint    | Meaning                  | Example                                        |\n",
    "| ------------- | ------------------------ | ---------------------------------------------- |\n",
    "| `gt`          | greater than             | `age: int = Field(..., gt=0)`                  |\n",
    "| `ge`          | greater than or equal to | `score: int = Field(..., ge=0)`                |\n",
    "| `lt`          | less than                | `age: int = Field(..., lt=120)`                |\n",
    "| `le`          | less than or equal to    | `height: float = Field(..., le=2.5)`           |\n",
    "| `multiple_of` | must be a multiple of    | `even_number: int = Field(..., multiple_of=2)` |\n"
   ]
  },
  {
   "cell_type": "markdown",
   "id": "a00224b0",
   "metadata": {},
   "source": [
    "...these are string constraints...they also work with `Fields`"
   ]
  },
  {
   "cell_type": "markdown",
   "id": "6c86ba3f",
   "metadata": {},
   "source": [
    "| Constraint   | Meaning            | Example                                      |\n",
    "| ------------ | ------------------ | -------------------------------------------- |\n",
    "| `min_length` | minimum characters | `name: str = Field(..., min_length=2)`       |\n",
    "| `max_length` | maximum characters | `password: str = Field(..., max_length=20)`  |\n",
    "| `pattern`      | must match pattern | `phone: str = Field(..., pattern=r'^\\d{11}$')` |\n"
   ]
  },
  {
   "cell_type": "markdown",
   "id": "e7d2a410",
   "metadata": {},
   "source": [
    "more constraints"
   ]
  },
  {
   "cell_type": "markdown",
   "id": "4c17ce9b",
   "metadata": {},
   "source": [
    "| Type / Field                    | Description                                | Example                                                                               |\n",
    "| ------------------------------- | ------------------------------------------ | ------------------------------------------------------------------------------------- |\n",
    "| `int` + `Field()`               | Constrained integer (e.g. positive, range) | `age: int = Field(..., gt=0, lt=120)`                                                 |\n",
    "| `str` + `Field()`               | Constrained string (length, pattern, etc.)   | `username: str = Field(..., min_length=3, max_length=12, pattern=r\"^[A-Za-z0-9_]+$\")` |\n",
    "| `list` + `Field()`              | Constrained list (size limits)             | `scores: list[int] = Field(..., min_length=3, max_length=5)`                          |\n",
    "| `Decimal` + `Field()`           | Constrained decimal (precision, limits)    | `price: Decimal = Field(..., gt=0, max_digits=6, decimal_places=2)`                   |\n",
    "| `float` + `Field()`             | Constrained float (min, max, multiple)     | `rating: float = Field(..., ge=0, le=5, multiple_of=0.5)`                             |\n",
    "| `bool` + `Field()`              | Boolean with default or description        | `is_active: bool = Field(default=True, description=\"User is active\")`                 |\n",
    "| `date` / `datetime` + `Field()` | Date/time validation                       | `created_at: datetime = Field(default_factory=datetime.now)`                       |\n"
   ]
  },
  {
   "cell_type": "markdown",
   "id": "9d9ee2f8",
   "metadata": {},
   "source": [
    "**Enums and Literals**"
   ]
  },
  {
   "cell_type": "markdown",
   "id": "641fc3a3",
   "metadata": {},
   "source": [
    "These restrict values to fixed options.\n",
    "\n",
    "- `Enum`: Use Enum when your allowed values are still fixed, but you might want more control\n",
    "\n",
    "- `Literal`: Literal is used when you want a small, fixed set of allowed string (or number) values — but you don’t need any extra logic or behavior."
   ]
  },
  {
   "cell_type": "code",
   "execution_count": null,
   "id": "3ba21026",
   "metadata": {},
   "outputs": [],
   "source": [
    "from datetime import datetime\n",
    "from decimal import Decimal\n",
    "from pydantic import BaseModel, Field, ValidationError\n",
    "from typing import List\n",
    "\n",
    "# Let's create the model here\n",
    "\n",
    "class ProductReview(BaseModel):\n",
    "    review_id: int = Field(..., gt=0, lt=10000)\n",
    "    username:str = Field(..., min_length=3, max_length=12, pattern= r\"^[A-Za-z0-9_]+$)\")\n",
    "    scores: List[int] = Field(..., min_length=3, max_length=5)\n",
    "    price: Decimal = Field(..., gt=0, max_digits=6)\n",
    "    rating: float = Field(..., ge=0, le=5, multiple_of=0.5)\n",
    "    is_active: bool = Field(default=True)\n",
    "    created_at: datetime = Field(default_factory=datetime.now)"
   ]
  },
  {
   "cell_type": "code",
   "execution_count": null,
   "id": "64ab0a7d",
   "metadata": {},
   "outputs": [],
   "source": [
    "# to demo for each\n",
    "\n",
    "def demo_int_field():\n",
    "    print('Innteger Field Validation')\n",
    "    try:\n",
    "        ProductReview(review_id= -2, username='abby', scores=[4, 5, 4], price=Decimal('10.00'), rating=4.5)\n",
    "    except ValidationError as e:\n",
    "        print(e)"
   ]
  },
  {
   "cell_type": "code",
   "execution_count": null,
   "id": "3ac02bce",
   "metadata": {},
   "outputs": [],
   "source": [
    "demo_int_field()"
   ]
  },
  {
   "cell_type": "code",
   "execution_count": null,
   "id": "a0079d6b",
   "metadata": {},
   "outputs": [],
   "source": [
    "def demo_str_field():\n",
    "    print('String Field Validation')\n",
    "    try:\n",
    "        ProductReview(review_id=1, username='A$', scores=[4, 5, 5], price=Decimal('20.00'), rating=4.0)\n",
    "    except ValidationError as e:\n",
    "        print(e)"
   ]
  },
  {
   "cell_type": "code",
   "execution_count": null,
   "id": "6543a0d2",
   "metadata": {},
   "outputs": [],
   "source": [
    "demo_str_field()"
   ]
  },
  {
   "cell_type": "code",
   "execution_count": null,
   "id": "48b21163",
   "metadata": {},
   "outputs": [],
   "source": [
    "def demo_list_field():\n",
    "    print('\\nList Field Validation')\n",
    "    try:\n",
    "        ProducReview(review_id=2, username='DebbyDev', scores=[5], price=Decimal('30.00'), rating=4.5)\n",
    "    except ValidationError as e:\n",
    "        print(e)"
   ]
  },
  {
   "cell_type": "code",
   "execution_count": null,
   "id": "ddea1442",
   "metadata": {},
   "outputs": [],
   "source": [
    "demo_list_field()"
   ]
  },
  {
   "cell_type": "code",
   "execution_count": null,
   "id": "ae18abed",
   "metadata": {},
   "outputs": [],
   "source": [
    "def demo_decimal_field():\n",
    "    print('\\n Decimal Field Validation')\n",
    "    try:\n",
    "        ProductReview(review_id=3, username='BigDev', scores=[5, 5, 4], price=Decimal('-10.00'), rating=3.5)\n",
    "    except ValidationError as e:\n",
    "        print(e)"
   ]
  },
  {
   "cell_type": "code",
   "execution_count": null,
   "id": "9950b96c",
   "metadata": {},
   "outputs": [],
   "source": [
    "demo_decimal_field()"
   ]
  },
  {
   "cell_type": "code",
   "execution_count": null,
   "id": "d498c43e",
   "metadata": {},
   "outputs": [],
   "source": [
    "def demo_float_field():\n",
    "    print('\\n Float Field Validation')\n",
    "    try:\n",
    "        ProductReview(review_id = 4, username='SmartDev', scores= [4, 4, 5], price=Decimal('99.99'), rating=4.3)\n",
    "\n",
    "    except ValidationError as e:\n",
    "        print(e)\n"
   ]
  },
  {
   "cell_type": "code",
   "execution_count": null,
   "id": "875dae85",
   "metadata": {},
   "outputs": [
    {
     "ename": "",
     "evalue": "",
     "output_type": "error",
     "traceback": [
      "\u001b[1;31mFailed to start the Kernel. \n",
      "\u001b[1;31mUnable to start Kernel 'benv (Python 3.13.7)' due to a timeout waiting for the ports to get used. \n",
      "\u001b[1;31mView Jupyter <a href='command:jupyter.viewOutput'>log</a> for further details."
     ]
    }
   ],
   "source": [
    "demo_float_field()"
   ]
  },
  {
   "cell_type": "code",
   "execution_count": null,
   "id": "604570ba",
   "metadata": {},
   "outputs": [],
   "source": [
    "def demo_bool_field():\n",
    "    print('\\n Boolean Field Default')\n",
    "    product = ProductReview(\n",
    "        review_id=5,\n",
    "        username='SuperDev',\n",
    "        scores=[5, 4, 5],\n",
    "        price=Decimal('78.98'),\n",
    "        rating=5.0\n",
    "    )\n",
    "    print('is_active =', product.is_active)"
   ]
  },
  {
   "cell_type": "code",
   "execution_count": null,
   "id": "bac4b667",
   "metadata": {},
   "outputs": [],
   "source": [
    "demo_bool"
   ]
  }
 ],
 "metadata": {
  "kernelspec": {
   "display_name": "benv",
   "language": "python",
   "name": "python3"
  },
  "language_info": {
   "codemirror_mode": {
    "name": "ipython",
    "version": 3
   },
   "file_extension": ".py",
   "mimetype": "text/x-python",
   "name": "python",
   "nbconvert_exporter": "python",
   "pygments_lexer": "ipython3",
   "version": "3.13.7"
  }
 },
 "nbformat": 4,
 "nbformat_minor": 5
}
